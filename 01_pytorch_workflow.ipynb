{
  "nbformat": 4,
  "nbformat_minor": 0,
  "metadata": {
    "colab": {
      "provenance": [],
      "authorship_tag": "ABX9TyPRgAT66hr4H+RXmlbXneoj",
      "include_colab_link": true
    },
    "kernelspec": {
      "name": "python3",
      "display_name": "Python 3"
    },
    "language_info": {
      "name": "python"
    }
  },
  "cells": [
    {
      "cell_type": "markdown",
      "metadata": {
        "id": "view-in-github",
        "colab_type": "text"
      },
      "source": [
        "<a href=\"https://colab.research.google.com/github/tanyasheru23/PyTorch/blob/main/01_pytorch_workflow.ipynb\" target=\"_parent\"><img src=\"https://colab.research.google.com/assets/colab-badge.svg\" alt=\"Open In Colab\"/></a>"
      ]
    },
    {
      "cell_type": "code",
      "source": [
        "import torch\n",
        "from torch import nn ##nn contains all pytorch building blocks for neural networks\n",
        "import matplotlib.pyplot as plt\n",
        "\n",
        "#check PyTorch version\n",
        "torch.__version__"
      ],
      "metadata": {
        "colab": {
          "base_uri": "https://localhost:8080/",
          "height": 35
        },
        "id": "Jtlrzt6M0vNX",
        "outputId": "e8d7e5b0-4d48-477f-e36c-64ffff0e5bbf"
      },
      "execution_count": null,
      "outputs": [
        {
          "output_type": "execute_result",
          "data": {
            "text/plain": [
              "'2.2.1+cu121'"
            ],
            "application/vnd.google.colaboratory.intrinsic+json": {
              "type": "string"
            }
          },
          "metadata": {},
          "execution_count": 2
        }
      ]
    },
    {
      "cell_type": "markdown",
      "source": [
        "## 1. Data - Prepraing and loading\n",
        "\n",
        "Data can be almost anything ... in ML\n",
        "\n",
        "*   Excel Sheet\n",
        "*   Images of anykind\n",
        "*   Videos\n",
        "*   Audio\n",
        "*   DNA\n",
        "*   Text\n",
        "\n",
        "Machine Learning consists of two parts:\n",
        "1. Get data into a numerical representation\n",
        "2. Build a model to learn patterns in that numerical representation\n",
        "\n",
        "To showcase this, let's create some *known* data using the linear regression formula\n",
        "\n",
        "`Y = a + bX`\n",
        "\n",
        "We'll use a linear regression formula to make a straight line with *known* **parameters**."
      ],
      "metadata": {
        "id": "v2pSpg7_1bhv"
      }
    },
    {
      "cell_type": "code",
      "source": [
        "1. #Create *known* parameters\n",
        "weight = 0.7 #b\n",
        "bias = 0.3   #a\n",
        "\n",
        "# Create\n",
        "start=0\n",
        "end=1\n",
        "step = 0.02\n",
        "\n",
        "#capital rep tensor and lower case a vector\n",
        "X = torch.arange(start, end, step).unsqueeze(dim=1)\n",
        "y = weight*X + bias\n",
        "\n",
        "X[:10], y[:10]"
      ],
      "metadata": {
        "colab": {
          "base_uri": "https://localhost:8080/"
        },
        "id": "uX8EJUhy15nM",
        "outputId": "7228a02e-1957-4ec8-abc4-eb8e98b2e043"
      },
      "execution_count": null,
      "outputs": [
        {
          "output_type": "execute_result",
          "data": {
            "text/plain": [
              "(tensor([[0.0000],\n",
              "         [0.0200],\n",
              "         [0.0400],\n",
              "         [0.0600],\n",
              "         [0.0800],\n",
              "         [0.1000],\n",
              "         [0.1200],\n",
              "         [0.1400],\n",
              "         [0.1600],\n",
              "         [0.1800]]),\n",
              " tensor([[0.3000],\n",
              "         [0.3140],\n",
              "         [0.3280],\n",
              "         [0.3420],\n",
              "         [0.3560],\n",
              "         [0.3700],\n",
              "         [0.3840],\n",
              "         [0.3980],\n",
              "         [0.4120],\n",
              "         [0.4260]]))"
            ]
          },
          "metadata": {},
          "execution_count": 3
        }
      ]
    },
    {
      "cell_type": "code",
      "source": [
        "len(X), len(y)"
      ],
      "metadata": {
        "colab": {
          "base_uri": "https://localhost:8080/"
        },
        "id": "mCiHmjsQKR3E",
        "outputId": "6445c9cd-0fce-40e7-e827-06357d93f276"
      },
      "execution_count": null,
      "outputs": [
        {
          "output_type": "execute_result",
          "data": {
            "text/plain": [
              "(50, 50)"
            ]
          },
          "metadata": {},
          "execution_count": 4
        }
      ]
    },
    {
      "cell_type": "markdown",
      "source": [
        "### Splitting data into training and test sets\n",
        "One of the most imp concepts in ML for data\n",
        "\n",
        "Lets create training ans test set with our data"
      ],
      "metadata": {
        "id": "qtYMPOBVKVv8"
      }
    },
    {
      "cell_type": "code",
      "source": [
        "train_split = int(0.8*len(X))\n",
        "X_train, y_train = X[:train_split], y[:train_split]\n",
        "X_test, y_test = X[train_split:], y[train_split:]\n",
        "\n",
        "len(X_train), len(y_train), len(X_test), len(y_test)"
      ],
      "metadata": {
        "colab": {
          "base_uri": "https://localhost:8080/"
        },
        "id": "q3naR8ysLRBy",
        "outputId": "deb02203-8cff-4fd5-f9ef-dd6d32f0b575"
      },
      "execution_count": null,
      "outputs": [
        {
          "output_type": "execute_result",
          "data": {
            "text/plain": [
              "(40, 40, 10, 10)"
            ]
          },
          "metadata": {},
          "execution_count": 5
        }
      ]
    },
    {
      "cell_type": "markdown",
      "source": [
        "### Visualize our data\n"
      ],
      "metadata": {
        "id": "tQPncahpPZWb"
      }
    },
    {
      "cell_type": "code",
      "source": [
        "def plot_prediction(train_data=X_train,\n",
        "                    train_labels=y_train,\n",
        "                    test_data=X_test,\n",
        "                    test_labels=y_test,\n",
        "                    predictions=None):\n",
        "  \"\"\"\n",
        "  Plots training data, testing data and compares prediction\n",
        "  \"\"\"\n",
        "  #Plot training data in blue\n",
        "  plt.scatter(train_data, train_labels, c=\"b\", s=4, label=\"Training  Data\")\n",
        "\n",
        "  #Plot testing data in green\n",
        "  plt.scatter(test_data, test_labels, c=\"g\", s=4, label =\"Test Data\")\n",
        "\n",
        "  # Are there predictions?\n",
        "  if predictions is not None:\n",
        "    # Plot the predictions if they exist\n",
        "    plt.scatter(test_data, predictions,c=\"r\", s=4, label=\"Predictions\")\n",
        "\n",
        "  # Show the legend\n",
        "  plt.legend(prop={\"size\":14});"
      ],
      "metadata": {
        "id": "tE_lQQ6BP2K-"
      },
      "execution_count": null,
      "outputs": []
    },
    {
      "cell_type": "code",
      "source": [
        "plot_prediction()"
      ],
      "metadata": {
        "colab": {
          "base_uri": "https://localhost:8080/",
          "height": 430
        },
        "id": "NWvTYgDeRdAY",
        "outputId": "284c789e-559e-4c1d-8115-728b3c6595d5"
      },
      "execution_count": null,
      "outputs": [
        {
          "output_type": "display_data",
          "data": {
            "text/plain": [
              "<Figure size 640x480 with 1 Axes>"
            ],
            "image/png": "[encoded data removed]"
          },
          "metadata": {}
        }
      ]
    },
    {
      "cell_type": "markdown",
      "source": [
        "## 2. Build Model\n",
        "\n",
        "\n",
        "What our Model does?\n",
        "* Start with random values\n",
        "* Look at training data and adjust the random values to better represent (or get closer to) the ideal vlaues (the weight & bias values we used to create the data)\n",
        "\n",
        "\n",
        "How does it do so?\n",
        "Through 2 main algorithms:\n",
        "1. Gradient descent → `req_grad = true`\n",
        "2. Back Propogation"
      ],
      "metadata": {
        "id": "e31gtrHrRgxs"
      }
    },
    {
      "cell_type": "code",
      "source": [
        "# Create linear regression model class\n",
        "\n",
        "class LinearRegressionModel(nn.Module):\n",
        "  # almost everything in PyTorch inherits from nn.Module\n",
        "  def __init__(self):\n",
        "    super().__init__() #instantiate the super class i.e. here nn.Module\n",
        "\n",
        "    # Initialize model Parameters\n",
        "    # For bigger layers we may not init weights and biases,\n",
        "    # we might init whole list of layers or whatever variables that we need our model to use\n",
        "\n",
        "    self.weights = nn.Parameter(torch.randn(1,\n",
        "                                          requires_grad=True,\n",
        "                                          dtype=torch.float))\n",
        "    self.bias = nn.Parameter(torch.randn(1,\n",
        "                                       requires_grad=True,\n",
        "                                       dtype=torch.float))\n",
        "\n",
        "    # Forward method to define the computation in the model (forward method is the operation that this module does)\n",
        "    # any subclass of nn.module requires a forward method\n",
        "  def forward(self, x:torch.Tensor) ->torch.Tensor: #<- \"x\" is the input data\n",
        "    return self.weights*x + self.bias #this is the linear regression formula"
      ],
      "metadata": {
        "id": "RTEWTFPbjnSv"
      },
      "execution_count": null,
      "outputs": []
    },
    {
      "cell_type": "markdown",
      "source": [
        "## PyTorch model building essentials\n",
        "\n",
        "* `torch.nn` - contains all of the building blocks for computational graphs (a neural network can be considered as a computational graph)\n",
        "* `torch.nn.Parameter` - what parameters should our model try and learn, often PyTorch layer from torch.nn will set these for us\n",
        "* `torch.nn.Module` - The base class for all neural network modules, if you subclass it, you should overwrite `forward()`\n",
        "* `torch.optim` - this where the optimizers in PyTorch live, they will help with gradient descent\n",
        "* `def forward()` - All `nn.Module` subclasses require you to overwrite `forward()`, this method defines what happens in the forward computation"
      ],
      "metadata": {
        "id": "qQWJF2nIJeD3"
      }
    },
    {
      "cell_type": "markdown",
      "source": [
        "### Checking the contents of our PyTorch Model\n",
        "\n",
        "Now we've created a model, let's see what's inside...\n",
        "\n",
        "So we can check our model parameters or what's inside our model using `.parameters()`."
      ],
      "metadata": {
        "id": "AjUVyf_a14Tt"
      }
    },
    {
      "cell_type": "code",
      "source": [
        "# create a random seed\n",
        "\n",
        "torch.manual_seed(42)\n",
        "\n",
        "# create an instance of the model (this is a subclass of nn.Module)\n",
        "model_0 = LinearRegressionModel()\n",
        "\n",
        "#check out the parameters\n",
        "list(model_0.parameters())"
      ],
      "metadata": {
        "colab": {
          "base_uri": "https://localhost:8080/"
        },
        "id": "xMde5wtVE3AZ",
        "outputId": "b3622e9e-92b3-445b-a1a9-4a601d5ff9f6"
      },
      "execution_count": null,
      "outputs": [
        {
          "output_type": "execute_result",
          "data": {
            "text/plain": [
              "[Parameter containing:\n",
              " tensor([0.3367], requires_grad=True),\n",
              " Parameter containing:\n",
              " tensor([0.1288], requires_grad=True)]"
            ]
          },
          "metadata": {},
          "execution_count": 9
        }
      ]
    },
    {
      "cell_type": "markdown",
      "source": [
        "`state_dict()` ⟶ A python dictionary that maps each layer to its parameter tensor"
      ],
      "metadata": {
        "id": "_Lklo3kiRJSP"
      }
    },
    {
      "cell_type": "code",
      "source": [
        "# list named parameters\n",
        "model_0.state_dict()"
      ],
      "metadata": {
        "colab": {
          "base_uri": "https://localhost:8080/"
        },
        "id": "VBTdsbiUFksD",
        "outputId": "f29e1696-292f-4c6b-8763-a2ef7a8b2b56"
      },
      "execution_count": null,
      "outputs": [
        {
          "output_type": "execute_result",
          "data": {
            "text/plain": [
              "OrderedDict([('weights', tensor([0.3367])), ('bias', tensor([0.1288]))])"
            ]
          },
          "metadata": {},
          "execution_count": 10
        }
      ]
    },
    {
      "cell_type": "code",
      "source": [
        "weight, bias"
      ],
      "metadata": {
        "colab": {
          "base_uri": "https://localhost:8080/"
        },
        "id": "VObQPKUsHe25",
        "outputId": "2e81fb76-b5e1-4b7d-a717-dda2f0c02e31"
      },
      "execution_count": null,
      "outputs": [
        {
          "output_type": "execute_result",
          "data": {
            "text/plain": [
              "(0.7, 0.3)"
            ]
          },
          "metadata": {},
          "execution_count": 11
        }
      ]
    },
    {
      "cell_type": "markdown",
      "source": [
        "### Making predictions using `torch.inference_model()`\n",
        "\n",
        "To check our model's predictive power, let's see how well it predicts `y_test` based on `X_test`\n",
        "\n",
        "When we pass data through our model, it's going to run through the `forward()` method\n",
        "\n"
      ],
      "metadata": {
        "id": "aDTtTdYuLxB4"
      }
    },
    {
      "cell_type": "code",
      "source": [
        "y_pred=model_0(X_test)\n",
        "y_pred"
      ],
      "metadata": {
        "colab": {
          "base_uri": "https://localhost:8080/"
        },
        "id": "vbDyuPMlOk4P",
        "outputId": "6d63846e-a709-4ae2-f0ba-7e8d265ad154"
      },
      "execution_count": null,
      "outputs": [
        {
          "output_type": "execute_result",
          "data": {
            "text/plain": [
              "tensor([[0.3982],\n",
              "        [0.4049],\n",
              "        [0.4116],\n",
              "        [0.4184],\n",
              "        [0.4251],\n",
              "        [0.4318],\n",
              "        [0.4386],\n",
              "        [0.4453],\n",
              "        [0.4520],\n",
              "        [0.4588]], grad_fn=<AddBackward0>)"
            ]
          },
          "metadata": {},
          "execution_count": 12
        }
      ]
    },
    {
      "cell_type": "markdown",
      "source": [
        "`torch.inference_mode()` ⟶ turnsoff gradient tracking and etc stuff in the background which are no longer useful for testing\n",
        "\n",
        "Why use inference mode?\n",
        "\n",
        "* To increase speed by reducing unnecessary computations.\n",
        "\n",
        "* When we are doing inference, we are not training so we don't need to keep track of the updates.\n",
        "\n",
        "* Not saving memory of whole bunch of data saves memory for large dataset\n",
        "\n",
        "We can also do something similar with `torch.no_grad()`, however inference mode is preferred"
      ],
      "metadata": {
        "id": "5ENu503tRbkT"
      }
    },
    {
      "cell_type": "code",
      "source": [
        "# Make predictions with model\n",
        "\n",
        "with torch.inference_mode(): #turns off the grad tracking\n",
        "  y_preds = model_0(X_test)\n",
        "y_preds"
      ],
      "metadata": {
        "colab": {
          "base_uri": "https://localhost:8080/"
        },
        "id": "mqjmPFVjMyOx",
        "outputId": "d000c55a-bca5-45f9-afbf-c40b8ce4f6a2"
      },
      "execution_count": null,
      "outputs": [
        {
          "output_type": "execute_result",
          "data": {
            "text/plain": [
              "tensor([[0.3982],\n",
              "        [0.4049],\n",
              "        [0.4116],\n",
              "        [0.4184],\n",
              "        [0.4251],\n",
              "        [0.4318],\n",
              "        [0.4386],\n",
              "        [0.4453],\n",
              "        [0.4520],\n",
              "        [0.4588]])"
            ]
          },
          "metadata": {},
          "execution_count": 13
        }
      ]
    },
    {
      "cell_type": "code",
      "source": [
        "plot_prediction(predictions=y_preds)"
      ],
      "metadata": {
        "colab": {
          "base_uri": "https://localhost:8080/",
          "height": 430
        },
        "id": "mN7K26B3Na4X",
        "outputId": "7a032ee3-616a-49aa-aab5-c6ade088d750"
      },
      "execution_count": null,
      "outputs": [
        {
          "output_type": "display_data",
          "data": {
            "text/plain": [
              "<Figure size 640x480 with 1 Axes>"
            ],
            "image/png": "[encoded data removed]"
          },
          "metadata": {}
        }
      ]
    },
    {
      "cell_type": "markdown",
      "source": [
        "### 3. Train Model\n",
        "\n",
        "The whole idea of training is for a model to move from some *unknow* parameters (these might be random) to some *known* parameters\n",
        "\n",
        "Or in other words from poor representaion of the data to a better representation\n",
        "\n",
        "One way to measure how poor or how wrong your predictions are to use loss functions\n",
        "\n",
        "* Note: Loss function may also be called cost function or criterion in different areas. For our case, we're going to refer to it as a loss funtion\n",
        "\n",
        "THINGS WE NEED TO TRAIN:\n",
        "\n",
        "* **Loss function:** A function to measure how wrong your model's predictions are to the ideal output, lower is better.\n",
        "\n",
        "* **Optimiser**: Takes into account the loss of a model and adjust the model's parameters (e.g. weight & bias) in our case to improve the loss funtion\n",
        "  * Optimizer needs 2 parameters: `params` = `model.parameters` and `lr` = learning rate\n",
        "\n",
        "And specifically for PyTorch, we need:\n",
        "* A training loop\n",
        "* A testing loop"
      ],
      "metadata": {
        "id": "saummhZxc2A4"
      }
    },
    {
      "cell_type": "code",
      "source": [
        "model_0.state_dict()"
      ],
      "metadata": {
        "colab": {
          "base_uri": "https://localhost:8080/"
        },
        "id": "12SaiEAbl5im",
        "outputId": "d6925a86-7e32-4add-8cb5-9c8e977665b4"
      },
      "execution_count": null,
      "outputs": [
        {
          "output_type": "execute_result",
          "data": {
            "text/plain": [
              "OrderedDict([('weights', tensor([0.3367])), ('bias', tensor([0.1288]))])"
            ]
          },
          "metadata": {},
          "execution_count": 15
        }
      ]
    },
    {
      "cell_type": "code",
      "source": [
        "# set up a loss function\n",
        "loss_fn = nn.L1Loss()\n",
        "\n",
        "# set up an optimizer\n",
        "optim = torch.optim.SGD(params = model_0.parameters(), lr = 0.001)"
      ],
      "metadata": {
        "id": "k3GMKvRVl-rq"
      },
      "execution_count": null,
      "outputs": []
    },
    {
      "cell_type": "markdown",
      "source": [
        "### Building a training loop in PyTorch\n",
        "\n",
        "Things needed in a training loop\n",
        "0. Loop through the data\n",
        "1. Forward pass\n",
        "2. Calculate the loss\n",
        "3. Optimizer zero grad\n",
        "4. Loss backward - **Back propagation**\n",
        "5. Optimizer step - use optimizer to adjust model's params to try and imporve the loss **Gradient Descent**"
      ],
      "metadata": {
        "id": "hJeon90a7Rk2"
      }
    },
    {
      "cell_type": "markdown",
      "source": [
        "###Training Loop\n",
        "\n",
        "`model.train()` ⟶ Train mode sets the params that require gradient to require gradient mode\n",
        "\n",
        "`optimizer.zero_grad()` ⟶ zero the grads of the optimizer, because by default the grads are accumulated and so as to avoid the affect of past gradient in this iteration, we set it to zero\n",
        "\n",
        "`optimizer.step()` ⟶ set optimizer to update the model's params w.r.t grad calculated by to the `loss.backward()` using back propogation\n"
      ],
      "metadata": {
        "id": "WSooX3skL6MR"
      }
    },
    {
      "cell_type": "markdown",
      "source": [
        "### Testing\n",
        "`model.eval()` ⟶ Turnsoff the gradient tracking, drop_out, batch_norm etc stuff which are no longer needed for testing\n",
        "\n",
        "`torch.inference_mode()` ⟶ turnsoff gradient tracking and etc stuff in the background which are no longer useful for testing."
      ],
      "metadata": {
        "id": "PLrwIsLRNL1o"
      }
    },
    {
      "cell_type": "code",
      "source": [
        "epochs = 2000\n",
        "\n",
        "epoch_count = []\n",
        "train_loss_values = []\n",
        "test_loss_values = []\n",
        "\n",
        "# 0. Loop through the data\n",
        "for epoch in range(epochs):\n",
        "\n",
        "  # Set the traning mode\n",
        "  model_0.train()\n",
        "\n",
        "  # 1. Forward Pass\n",
        "  y_pred = model_0(X_train)\n",
        "\n",
        "  # 2. Calculate the loss\n",
        "  loss = loss_fn(y_pred, y_train)\n",
        "  epoch_count.append(epoch)\n",
        "  train_loss_values.append(loss.detach().numpy())\n",
        "\n",
        "  # 3. Optimizer zero_grad\n",
        "  optim.zero_grad()\n",
        "\n",
        "  # 4. Back Propagation\n",
        "  loss.backward()\n",
        "\n",
        "  # 5. Gradient Descent (update the weights)\n",
        "  optim.step()\n",
        "\n",
        "  # Testing\n",
        "  model_0.eval()\n",
        "  with torch.inference_mode():\n",
        "    # 1. Forward Pass\n",
        "    test_pred = model_0(X_test)\n",
        "\n",
        "    # 2. Calculate the loss\n",
        "    test_loss = loss_fn(test_pred, y_test)\n",
        "    test_loss_values.append(test_loss)\n",
        "\n",
        "  if epoch % 50 == 0:\n",
        "    print(f\"Epoch: {epoch} | Train: loss {loss} | Test loss: {test_loss}\")\n",
        "    print(model_0.state_dict())\n",
        "    print()"
      ],
      "metadata": {
        "colab": {
          "base_uri": "https://localhost:8080/"
        },
        "id": "lHX1sMHl8kBO",
        "outputId": "b3282f93-c367-48a9-f729-f9b3b3972256"
      },
      "execution_count": null,
      "outputs": [
        {
          "output_type": "stream",
          "name": "stdout",
          "text": [
            "Epoch: 0 | Train: loss 0.31288138031959534 | Test loss: 0.4931890368461609\n",
            "OrderedDict([('weights', tensor([0.3371])), ('bias', tensor([0.1298]))])\n",
            "\n",
            "Epoch: 50 | Train: loss 0.2552763819694519 | Test loss: 0.4258342385292053\n",
            "OrderedDict([('weights', tensor([0.3566])), ('bias', tensor([0.1798]))])\n",
            "\n",
            "Epoch: 100 | Train: loss 0.19767141342163086 | Test loss: 0.35847947001457214\n",
            "OrderedDict([('weights', tensor([0.3761])), ('bias', tensor([0.2298]))])\n",
            "\n",
            "Epoch: 150 | Train: loss 0.14006686210632324 | Test loss: 0.2911251187324524\n",
            "OrderedDict([('weights', tensor([0.3956])), ('bias', tensor([0.2798]))])\n",
            "\n",
            "Epoch: 200 | Train: loss 0.08973254263401031 | Test loss: 0.22795839607715607\n",
            "OrderedDict([('weights', tensor([0.4150])), ('bias', tensor([0.3257]))])\n",
            "\n",
            "Epoch: 250 | Train: loss 0.06476505100727081 | Test loss: 0.18208928406238556\n",
            "OrderedDict([('weights', tensor([0.4330])), ('bias', tensor([0.3556]))])\n",
            "\n",
            "Epoch: 300 | Train: loss 0.05357731133699417 | Test loss: 0.15086300671100616\n",
            "OrderedDict([('weights', tensor([0.4485])), ('bias', tensor([0.3730]))])\n",
            "\n",
            "Epoch: 350 | Train: loss 0.04836020991206169 | Test loss: 0.13020753860473633\n",
            "OrderedDict([('weights', tensor([0.4617])), ('bias', tensor([0.3819]))])\n",
            "\n",
            "Epoch: 400 | Train: loss 0.04549176245927811 | Test loss: 0.11657620966434479\n",
            "OrderedDict([('weights', tensor([0.4730])), ('bias', tensor([0.3855]))])\n",
            "\n",
            "Epoch: 450 | Train: loss 0.04341452196240425 | Test loss: 0.10720770061016083\n",
            "OrderedDict([('weights', tensor([0.4831])), ('bias', tensor([0.3858]))])\n",
            "\n",
            "Epoch: 500 | Train: loss 0.04160415381193161 | Test loss: 0.10088418424129486\n",
            "OrderedDict([('weights', tensor([0.4924])), ('bias', tensor([0.3839]))])\n",
            "\n",
            "Epoch: 550 | Train: loss 0.03985908254981041 | Test loss: 0.09537436813116074\n",
            "OrderedDict([('weights', tensor([0.5014])), ('bias', tensor([0.3814]))])\n",
            "\n",
            "Epoch: 600 | Train: loss 0.03811401128768921 | Test loss: 0.08986451476812363\n",
            "OrderedDict([('weights', tensor([0.5104])), ('bias', tensor([0.3789]))])\n",
            "\n",
            "Epoch: 650 | Train: loss 0.03638043254613876 | Test loss: 0.08497253060340881\n",
            "OrderedDict([('weights', tensor([0.5192])), ('bias', tensor([0.3760]))])\n",
            "\n",
            "Epoch: 700 | Train: loss 0.03466346859931946 | Test loss: 0.08097299933433533\n",
            "OrderedDict([('weights', tensor([0.5277])), ('bias', tensor([0.3724]))])\n",
            "\n",
            "Epoch: 750 | Train: loss 0.032946161925792694 | Test loss: 0.07697348296642303\n",
            "OrderedDict([('weights', tensor([0.5363])), ('bias', tensor([0.3688]))])\n",
            "\n",
            "Epoch: 800 | Train: loss 0.03122851625084877 | Test loss: 0.07297395914793015\n",
            "OrderedDict([('weights', tensor([0.5448])), ('bias', tensor([0.3652]))])\n",
            "\n",
            "Epoch: 850 | Train: loss 0.029511287808418274 | Test loss: 0.0689057856798172\n",
            "OrderedDict([('weights', tensor([0.5534])), ('bias', tensor([0.3616]))])\n",
            "\n",
            "Epoch: 900 | Train: loss 0.027794325724244118 | Test loss: 0.06490625441074371\n",
            "OrderedDict([('weights', tensor([0.5619])), ('bias', tensor([0.3580]))])\n",
            "\n",
            "Epoch: 950 | Train: loss 0.02607722207903862 | Test loss: 0.06090673804283142\n",
            "OrderedDict([('weights', tensor([0.5704])), ('bias', tensor([0.3544]))])\n",
            "\n",
            "Epoch: 1000 | Train: loss 0.02435956709086895 | Test loss: 0.05690721794962883\n",
            "OrderedDict([('weights', tensor([0.5790])), ('bias', tensor([0.3508]))])\n",
            "\n",
            "Epoch: 1050 | Train: loss 0.022642139345407486 | Test loss: 0.05283904820680618\n",
            "OrderedDict([('weights', tensor([0.5875])), ('bias', tensor([0.3473]))])\n",
            "\n",
            "Epoch: 1100 | Train: loss 0.02092517353594303 | Test loss: 0.0488395169377327\n",
            "OrderedDict([('weights', tensor([0.5961])), ('bias', tensor([0.3437]))])\n",
            "\n",
            "Epoch: 1150 | Train: loss 0.019208211451768875 | Test loss: 0.04483998939394951\n",
            "OrderedDict([('weights', tensor([0.6046])), ('bias', tensor([0.3401]))])\n",
            "\n",
            "Epoch: 1200 | Train: loss 0.017490629106760025 | Test loss: 0.04084048420190811\n",
            "OrderedDict([('weights', tensor([0.6131])), ('bias', tensor([0.3365]))])\n",
            "\n",
            "Epoch: 1250 | Train: loss 0.015772998332977295 | Test loss: 0.036772288382053375\n",
            "OrderedDict([('weights', tensor([0.6217])), ('bias', tensor([0.3329]))])\n",
            "\n",
            "Epoch: 1300 | Train: loss 0.014056024141609669 | Test loss: 0.03277278691530228\n",
            "OrderedDict([('weights', tensor([0.6302])), ('bias', tensor([0.3293]))])\n",
            "\n",
            "Epoch: 1350 | Train: loss 0.012339059263467789 | Test loss: 0.028773266822099686\n",
            "OrderedDict([('weights', tensor([0.6388])), ('bias', tensor([0.3257]))])\n",
            "\n",
            "Epoch: 1400 | Train: loss 0.010621682740747929 | Test loss: 0.0247737355530262\n",
            "OrderedDict([('weights', tensor([0.6473])), ('bias', tensor([0.3221]))])\n",
            "\n",
            "Epoch: 1450 | Train: loss 0.008904037065804005 | Test loss: 0.020774226635694504\n",
            "OrderedDict([('weights', tensor([0.6559])), ('bias', tensor([0.3185]))])\n",
            "\n",
            "Epoch: 1500 | Train: loss 0.007186878472566605 | Test loss: 0.01670604944229126\n",
            "OrderedDict([('weights', tensor([0.6644])), ('bias', tensor([0.3150]))])\n",
            "\n",
            "Epoch: 1550 | Train: loss 0.005469909869134426 | Test loss: 0.012706518173217773\n",
            "OrderedDict([('weights', tensor([0.6730])), ('bias', tensor([0.3114]))])\n",
            "\n",
            "Epoch: 1600 | Train: loss 0.003752306802198291 | Test loss: 0.008672690019011497\n",
            "OrderedDict([('weights', tensor([0.6815])), ('bias', tensor([0.3078]))])\n",
            "\n",
            "Epoch: 1650 | Train: loss 0.002035337733104825 | Test loss: 0.004673170857131481\n",
            "OrderedDict([('weights', tensor([0.6900])), ('bias', tensor([0.3042]))])\n",
            "\n",
            "Epoch: 1700 | Train: loss 0.0003177322505507618 | Test loss: 0.0006393313524313271\n",
            "OrderedDict([('weights', tensor([0.6986])), ('bias', tensor([0.3006]))])\n",
            "\n",
            "Epoch: 1750 | Train: loss 0.0004444979131221771 | Test loss: 0.0005780101055279374\n",
            "OrderedDict([('weights', tensor([0.6997])), ('bias', tensor([0.3008]))])\n",
            "\n",
            "Epoch: 1800 | Train: loss 0.0004444979131221771 | Test loss: 0.0005780101055279374\n",
            "OrderedDict([('weights', tensor([0.6997])), ('bias', tensor([0.3008]))])\n",
            "\n",
            "Epoch: 1850 | Train: loss 0.0004444979131221771 | Test loss: 0.0005780101055279374\n",
            "OrderedDict([('weights', tensor([0.6997])), ('bias', tensor([0.3008]))])\n",
            "\n",
            "Epoch: 1900 | Train: loss 0.0004444979131221771 | Test loss: 0.0005780101055279374\n",
            "OrderedDict([('weights', tensor([0.6997])), ('bias', tensor([0.3008]))])\n",
            "\n",
            "Epoch: 1950 | Train: loss 0.0004444979131221771 | Test loss: 0.0005780101055279374\n",
            "OrderedDict([('weights', tensor([0.6997])), ('bias', tensor([0.3008]))])\n",
            "\n"
          ]
        }
      ]
    },
    {
      "cell_type": "code",
      "source": [
        "plt.plot(epoch_count, train_loss_values, label = \"Train Loss\")\n",
        "plt.plot(epoch_count, test_loss_values, label = \"Test Loss\")\n",
        "plt.title(\"Training and Testing Loss curves\")\n",
        "plt.xlabel(\"Epochs\")\n",
        "plt.ylabel(\"Loss\")\n",
        "plt.show()"
      ],
      "metadata": {
        "colab": {
          "base_uri": "https://localhost:8080/",
          "height": 472
        },
        "id": "NneEtRlR-6XJ",
        "outputId": "b66641cf-5d97-45e9-ed2a-788733034149"
      },
      "execution_count": null,
      "outputs": [
        {
          "output_type": "display_data",
          "data": {
            "text/plain": [
              "<Figure size 640x480 with 1 Axes>"
            ],
            "image/png": "[encoded data removed]"
          },
          "metadata": {}
        }
      ]
    },
    {
      "cell_type": "code",
      "source": [
        "with torch.inference_mode():\n",
        "  y_preds_new = model_0(X_test)\n",
        "plot_prediction(predictions=y_preds_new)"
      ],
      "metadata": {
        "colab": {
          "base_uri": "https://localhost:8080/",
          "height": 430
        },
        "id": "3QfPTbgPADdT",
        "outputId": "ed2798f1-3845-4722-eb4f-8339025c94be"
      },
      "execution_count": null,
      "outputs": [
        {
          "output_type": "display_data",
          "data": {
            "text/plain": [
              "<Figure size 640x480 with 1 Axes>"
            ],
            "image/png": "[encoded data removed]"
          },
          "metadata": {}
        }
      ]
    },
    {
      "cell_type": "markdown",
      "source": [
        "### Saving a model in PyTorch\n",
        "\n",
        "There are 3 main methods - to save and load models in PyTorch\n",
        "\n",
        "1. `torch.save()` - allows you to save a PyTorch object in Python's pickle format\n",
        "2. `torch.load()` - allows you to load a saved PyTorch object\n",
        "3. `torch.nn.Module.load_state_dict()` - allows to load a model's saved state dictionary (RECOMMENDED)"
      ],
      "metadata": {
        "id": "VIksRU7SMAYl"
      }
    },
    {
      "cell_type": "code",
      "source": [
        "model_0.state_dict()"
      ],
      "metadata": {
        "colab": {
          "base_uri": "https://localhost:8080/"
        },
        "id": "gc8UIDaZJUEz",
        "outputId": "7f68f1ec-f9e3-4759-c6b4-f86ca6d239c6"
      },
      "execution_count": null,
      "outputs": [
        {
          "output_type": "execute_result",
          "data": {
            "text/plain": [
              "OrderedDict([('weights', tensor([0.6994])), ('bias', tensor([0.2998]))])"
            ]
          },
          "metadata": {},
          "execution_count": 20
        }
      ]
    },
    {
      "cell_type": "code",
      "source": [
        "# Saving our PyTorch Model\n",
        "\n",
        "from pathlib import Path\n",
        "\n",
        "# 1. Create model directory\n",
        "MODEL_PATH = Path(\"models\")\n",
        "MODEL_PATH.mkdir(parents=True, exist_ok=True)\n",
        "\n",
        "# 2. Create model Save path\n",
        "MODEL_NAME = '01_pytorch_workflow_model_0.pth' # a common PyTorch conventions is to save models using either .pt or .pth\n",
        "MODEL_SAVE_PATH = MODEL_PATH / MODEL_NAME\n",
        "\n",
        "# 3. Save the model's state_dict\n",
        "print(f\"Saving Model to {MODEL_SAVE_PATH}\")\n",
        "torch.save(obj = model_0.state_dict(), f = MODEL_SAVE_PATH)"
      ],
      "metadata": {
        "colab": {
          "base_uri": "https://localhost:8080/"
        },
        "id": "_bNb_sLuSL7t",
        "outputId": "49418a39-df6b-4600-9741-7b51f4fa87a8"
      },
      "execution_count": null,
      "outputs": [
        {
          "output_type": "stream",
          "name": "stdout",
          "text": [
            "Saving Model to models/01_pytorch_workflow_model_0.pth\n"
          ]
        }
      ]
    },
    {
      "cell_type": "code",
      "source": [
        "!ls -l models"
      ],
      "metadata": {
        "colab": {
          "base_uri": "https://localhost:8080/"
        },
        "id": "BC-ThYwQTtLY",
        "outputId": "c88782cb-5d6c-4ab5-ff6d-9ffaf06bf00d"
      },
      "execution_count": null,
      "outputs": [
        {
          "output_type": "stream",
          "name": "stdout",
          "text": [
            "total 4\n",
            "-rw-r--r-- 1 root root 1680 Mar 17 08:43 01_pytorch_workflow_model_0.pth\n"
          ]
        }
      ]
    },
    {
      "cell_type": "markdown",
      "source": [
        "We can do 2 things\n",
        "* Save only the state_dict\n",
        "* Save the entire model\n",
        "Read and know which is recommended and why"
      ],
      "metadata": {
        "id": "2PLbfN5wPSIt"
      }
    },
    {
      "cell_type": "markdown",
      "source": [
        "## Loading a PyTorh MODEL\n",
        "\n",
        "Since we saved our model's `state_dict()` rather the entire model, we will have to create and instance of the model class and load the saved `state_dict` into that."
      ],
      "metadata": {
        "id": "P7hhcWh0S1j9"
      }
    },
    {
      "cell_type": "code",
      "source": [
        "# To Load in a saved state_dict we have to instantiate a new instance of our model class\n",
        "loaded_model_0 = LinearRegressionModel()\n",
        "\n",
        "# Load the saved state_dict of model_0 (this will update the new instance with updated parameters)\n",
        "loaded_model_0.load_state_dict(torch.load(f=MODEL_SAVE_PATH))"
      ],
      "metadata": {
        "id": "WjC59egBTD1F",
        "colab": {
          "base_uri": "https://localhost:8080/"
        },
        "outputId": "96bd78fe-9f68-4578-b53e-3e2c69acc32b"
      },
      "execution_count": null,
      "outputs": [
        {
          "output_type": "execute_result",
          "data": {
            "text/plain": [
              "<All keys matched successfully>"
            ]
          },
          "metadata": {},
          "execution_count": 23
        }
      ]
    },
    {
      "cell_type": "code",
      "source": [
        "loaded_model_0.state_dict()"
      ],
      "metadata": {
        "id": "6B3p87ivUEyE",
        "colab": {
          "base_uri": "https://localhost:8080/"
        },
        "outputId": "957a7a1e-0844-4ba1-b221-493de9326005"
      },
      "execution_count": null,
      "outputs": [
        {
          "output_type": "execute_result",
          "data": {
            "text/plain": [
              "OrderedDict([('weights', tensor([0.6994])), ('bias', tensor([0.2998]))])"
            ]
          },
          "metadata": {},
          "execution_count": 24
        }
      ]
    },
    {
      "cell_type": "code",
      "source": [
        "# Make some predictions with our loaded model\n",
        "loaded_model_0.eval()\n",
        "with torch.inference_mode():\n",
        "  loaded_model_pred = loaded_model_0(X_test)\n",
        "loaded_model_pred"
      ],
      "metadata": {
        "id": "Q0z4OaR4UHbQ",
        "colab": {
          "base_uri": "https://localhost:8080/"
        },
        "outputId": "9e9b2d47-0fe8-4e68-fbb1-0e4067c6c227"
      },
      "execution_count": null,
      "outputs": [
        {
          "output_type": "execute_result",
          "data": {
            "text/plain": [
              "tensor([[0.8593],\n",
              "        [0.8733],\n",
              "        [0.8873],\n",
              "        [0.9013],\n",
              "        [0.9152],\n",
              "        [0.9292],\n",
              "        [0.9432],\n",
              "        [0.9572],\n",
              "        [0.9712],\n",
              "        [0.9852]])"
            ]
          },
          "metadata": {},
          "execution_count": 25
        }
      ]
    },
    {
      "cell_type": "code",
      "source": [
        "model_0.eval()\n",
        "with torch.inference_mode():\n",
        "  model_pred = model_0(X_test)\n",
        "model_pred"
      ],
      "metadata": {
        "id": "mmBBVynhU-Mo",
        "colab": {
          "base_uri": "https://localhost:8080/"
        },
        "outputId": "fbb5b0a0-d82c-47b5-8478-88033e04591c"
      },
      "execution_count": null,
      "outputs": [
        {
          "output_type": "execute_result",
          "data": {
            "text/plain": [
              "tensor([[0.8593],\n",
              "        [0.8733],\n",
              "        [0.8873],\n",
              "        [0.9013],\n",
              "        [0.9152],\n",
              "        [0.9292],\n",
              "        [0.9432],\n",
              "        [0.9572],\n",
              "        [0.9712],\n",
              "        [0.9852]])"
            ]
          },
          "metadata": {},
          "execution_count": 26
        }
      ]
    },
    {
      "cell_type": "code",
      "source": [
        "model_pred == loaded_model_pred"
      ],
      "metadata": {
        "id": "XZkDCmrjVOVU",
        "colab": {
          "base_uri": "https://localhost:8080/"
        },
        "outputId": "996dd5ab-2e6c-4125-a6f1-e6dcb8615af3"
      },
      "execution_count": null,
      "outputs": [
        {
          "output_type": "execute_result",
          "data": {
            "text/plain": [
              "tensor([[True],\n",
              "        [True],\n",
              "        [True],\n",
              "        [True],\n",
              "        [True],\n",
              "        [True],\n",
              "        [True],\n",
              "        [True],\n",
              "        [True],\n",
              "        [True]])"
            ]
          },
          "metadata": {},
          "execution_count": 27
        }
      ]
    },
    {
      "cell_type": "markdown",
      "source": [
        "### PUTTING IT ALL TOGETHER\n",
        "Let's go back through the steps above and see it all in one place"
      ],
      "metadata": {
        "id": "abwCu2I4aGdZ"
      }
    },
    {
      "cell_type": "code",
      "source": [
        "# instantiate a new class to load the saved state_dict\n",
        "loaded_model_0 = LinearRegressionModel()\n",
        "\n",
        "print(f\"Params before loading: {loaded_model_0.state_dict()}\\n\")\n",
        "# now load the state_dict and update the new instance with new params\n",
        "loaded_model_0.load_state_dict(torch.load(f=MODEL_SAVE_PATH))\n",
        "print(f\"Params after loading: {loaded_model_0.state_dict()}\")"
      ],
      "metadata": {
        "colab": {
          "base_uri": "https://localhost:8080/"
        },
        "id": "Rjx3FiCwVRiy",
        "outputId": "3907303b-e4a9-45ed-fa0c-9cf55cbf138d"
      },
      "execution_count": null,
      "outputs": [
        {
          "output_type": "stream",
          "name": "stdout",
          "text": [
            "Params before loading: OrderedDict([('weights', tensor([-1.1229])), ('bias', tensor([-0.1863]))])\n",
            "\n",
            "Params after loading: OrderedDict([('weights', tensor([0.6994])), ('bias', tensor([0.2998]))])\n"
          ]
        }
      ]
    },
    {
      "cell_type": "code",
      "source": [
        "class LinearRegressionModelv2(nn.Module):\n",
        "  def __init__(self):\n",
        "    super().__init__()\n",
        "    self.linear_layer = nn.Linear(in_features = 1,\n",
        "                                  out_features = 1) # it creates params and biases in the background\n",
        "\n",
        "  def forward(self, x:torch.Tensor)->torch.Tensor:\n",
        "    return self.linear_layer(x)"
      ],
      "metadata": {
        "id": "EUgt4vmnWIWG"
      },
      "execution_count": null,
      "outputs": []
    },
    {
      "cell_type": "code",
      "source": [
        "torch.manual_seed(42)\n",
        "model_1 = LinearRegressionModelv2()\n",
        "model_1.state_dict()"
      ],
      "metadata": {
        "colab": {
          "base_uri": "https://localhost:8080/"
        },
        "id": "n5zPIiZ8elrk",
        "outputId": "e976bac3-5df4-4619-dcfc-95ae9c0a88ad"
      },
      "execution_count": null,
      "outputs": [
        {
          "output_type": "execute_result",
          "data": {
            "text/plain": [
              "OrderedDict([('linear_layer.weight', tensor([[0.7645]])),\n",
              "             ('linear_layer.bias', tensor([0.8300]))])"
            ]
          },
          "metadata": {},
          "execution_count": 30
        }
      ]
    },
    {
      "cell_type": "code",
      "source": [
        "loss_fn = nn.L1Loss()\n",
        "optim = torch.optim.SGD(params = model_1.parameters(), lr = 0.01)"
      ],
      "metadata": {
        "id": "UUuYaaGMevZp"
      },
      "execution_count": null,
      "outputs": []
    },
    {
      "cell_type": "code",
      "source": [
        "epochs = 150\n",
        "\n",
        "epoch_count = []\n",
        "train_losses = []\n",
        "test_losses = []\n",
        "for epoch in range(epochs):\n",
        "\n",
        "  #training\n",
        "  model_1.train()\n",
        "  y_pred = model_1.forward(X_train) # forward pass\n",
        "  loss = loss_fn(y_pred, y_train)   # calculate the loss\n",
        "  optim.zero_grad()                 # optimizer zero grad\n",
        "  loss.backward()                   # back propogation\n",
        "  optim.step()                      # update the params\n",
        "\n",
        "  # testing\n",
        "  model_1.eval()\n",
        "  with torch.inference_mode():\n",
        "    test_pred = model_1.forward(X_test)\n",
        "    test_loss = loss_fn(test_pred, y_test)\n",
        "\n",
        "  epoch_count.append(epoch)\n",
        "  train_losses.append(loss.detach().numpy())\n",
        "  test_losses.append(test_loss.detach().numpy())\n",
        "\n",
        "  if epoch % 20 == 0:\n",
        "    print(f\"Epoch: {epoch} | Training Loss: {loss} | Testing Loss: {test_loss}\\n\")\n",
        "    print(model_1.state_dict())"
      ],
      "metadata": {
        "colab": {
          "base_uri": "https://localhost:8080/"
        },
        "id": "nlPc8fgDfDcl",
        "outputId": "d8471976-2afa-431a-b856-7d8c17f3e488"
      },
      "execution_count": null,
      "outputs": [
        {
          "output_type": "stream",
          "name": "stdout",
          "text": [
            "Epoch: 0 | Training Loss: 0.5551779866218567 | Testing Loss: 0.5739762187004089\n",
            "\n",
            "OrderedDict([('linear_layer.weight', tensor([[0.7606]])), ('linear_layer.bias', tensor([0.8200]))])\n",
            "Epoch: 20 | Training Loss: 0.3247582018375397 | Testing Loss: 0.30455657839775085\n",
            "\n",
            "OrderedDict([('linear_layer.weight', tensor([[0.6826]])), ('linear_layer.bias', tensor([0.6200]))])\n",
            "Epoch: 40 | Training Loss: 0.09433844685554504 | Testing Loss: 0.03513689711689949\n",
            "\n",
            "OrderedDict([('linear_layer.weight', tensor([[0.6046]])), ('linear_layer.bias', tensor([0.4200]))])\n",
            "Epoch: 60 | Training Loss: 0.0199567973613739 | Testing Loss: 0.04580312222242355\n",
            "\n",
            "OrderedDict([('linear_layer.weight', tensor([[0.6025]])), ('linear_layer.bias', tensor([0.3410]))])\n",
            "Epoch: 80 | Training Loss: 0.013089170679450035 | Testing Loss: 0.029944902285933495\n",
            "\n",
            "OrderedDict([('linear_layer.weight', tensor([[0.6366]])), ('linear_layer.bias', tensor([0.3265]))])\n",
            "Epoch: 100 | Training Loss: 0.006215679459273815 | Testing Loss: 0.014086711220443249\n",
            "\n",
            "OrderedDict([('linear_layer.weight', tensor([[0.6707]])), ('linear_layer.bias', tensor([0.3120]))])\n",
            "Epoch: 120 | Training Loss: 0.0012645035749301314 | Testing Loss: 0.013801807537674904\n",
            "\n",
            "OrderedDict([('linear_layer.weight', tensor([[0.6929]])), ('linear_layer.bias', tensor([0.2925]))])\n",
            "Epoch: 140 | Training Loss: 0.0012645035749301314 | Testing Loss: 0.013801807537674904\n",
            "\n",
            "OrderedDict([('linear_layer.weight', tensor([[0.6929]])), ('linear_layer.bias', tensor([0.2925]))])\n"
          ]
        }
      ]
    },
    {
      "cell_type": "code",
      "source": [
        "plt.plot(epoch_count, train_losses, label = \"Train Loss\")\n",
        "plt.plot(epoch_count, test_losses, label = \"Test Loss\")\n",
        "plt.title(\"Training and Testing Loss curves\")\n",
        "plt.xlabel(\"Epochs\")\n",
        "plt.ylabel(\"Loss\")\n",
        "plt.show()"
      ],
      "metadata": {
        "colab": {
          "base_uri": "https://localhost:8080/",
          "height": 472
        },
        "outputId": "b1870620-c4b6-4834-de6d-9d0ac5a013ff",
        "id": "SG-qTFV8gU-1"
      },
      "execution_count": null,
      "outputs": [
        {
          "output_type": "display_data",
          "data": {
            "text/plain": [
              "<Figure size 640x480 with 1 Axes>"
            ],
            "image/png": "[encoded data removed]"
          },
          "metadata": {}
        }
      ]
    },
    {
      "cell_type": "code",
      "source": [
        "with torch.inference_mode():\n",
        "  y_preds_new = model_1(X_test)\n",
        "plot_prediction(predictions=y_preds_new)"
      ],
      "metadata": {
        "colab": {
          "base_uri": "https://localhost:8080/",
          "height": 430
        },
        "outputId": "6f08fb2b-ff2b-42a3-b943-d1a7f1a2b223",
        "id": "9dpp-IaIgU-_"
      },
      "execution_count": null,
      "outputs": [
        {
          "output_type": "display_data",
          "data": {
            "text/plain": [
              "<Figure size 640x480 with 1 Axes>"
            ],
            "image/png": "[encoded data removed]"
          },
          "metadata": {}
        }
      ]
    },
    {
      "cell_type": "code",
      "source": [
        "MODEL_NAME_1 = '01_pytorch_workflow_model_1.pth'\n",
        "\n",
        "MODEL_SAVE_PATH_1 = MODEL_PATH / MODEL_NAME_1\n",
        "\n",
        "print(f\"Saving model_1 state_dict to: {MODEL_SAVE_PATH_1}\")\n",
        "torch.save(obj = model_1.state_dict(), f = MODEL_SAVE_PATH_1)"
      ],
      "metadata": {
        "colab": {
          "base_uri": "https://localhost:8080/"
        },
        "id": "BEzwb0R8gozu",
        "outputId": "170996e9-d9d0-4e1c-ee17-67cb9a15197b"
      },
      "execution_count": null,
      "outputs": [
        {
          "output_type": "stream",
          "name": "stdout",
          "text": [
            "Saving model_1 state_dict to: models/01_pytorch_workflow_model_1.pth\n"
          ]
        }
      ]
    },
    {
      "cell_type": "code",
      "source": [
        "loaded_model_1 = LinearRegressionModelv2()\n",
        "\n",
        "print(f\"Params before loading saved model: {loaded_model_1.state_dict()}\")\n",
        "loaded_model_1.load_state_dict(torch.load(MODEL_SAVE_PATH_1))\n",
        "print(f\"Params after  loading saved model: {loaded_model_1.state_dict()}\")"
      ],
      "metadata": {
        "colab": {
          "base_uri": "https://localhost:8080/"
        },
        "id": "qlXJnoPSh5Fx",
        "outputId": "ecdadd68-b15f-4152-f1df-b72773fce497"
      },
      "execution_count": null,
      "outputs": [
        {
          "output_type": "stream",
          "name": "stdout",
          "text": [
            "Params before loading saved model: OrderedDict([('linear_layer.weight', tensor([[-0.2343]])), ('linear_layer.bias', tensor([0.9186]))])\n",
            "Params after  loading saved model: OrderedDict([('linear_layer.weight', tensor([[0.6968]])), ('linear_layer.bias', tensor([0.3025]))])\n"
          ]
        }
      ]
    },
    {
      "cell_type": "code",
      "source": [
        "y_pred_loaded = loaded_model_1(X_test)\n",
        "y_pred_loaded == y_preds_new"
      ],
      "metadata": {
        "colab": {
          "base_uri": "https://localhost:8080/"
        },
        "id": "VICVJBaBiqlT",
        "outputId": "dc8f1c0f-8ba6-4cb9-eb48-1eff7f756d15"
      },
      "execution_count": null,
      "outputs": [
        {
          "output_type": "execute_result",
          "data": {
            "text/plain": [
              "tensor([[True],\n",
              "        [True],\n",
              "        [True],\n",
              "        [True],\n",
              "        [True],\n",
              "        [True],\n",
              "        [True],\n",
              "        [True],\n",
              "        [True],\n",
              "        [True]])"
            ]
          },
          "metadata": {},
          "execution_count": 37
        }
      ]
    },
    {
      "cell_type": "code",
      "source": [],
      "metadata": {
        "id": "RCzJIg0Mjfga"
      },
      "execution_count": null,
      "outputs": []
    }
  ]
}