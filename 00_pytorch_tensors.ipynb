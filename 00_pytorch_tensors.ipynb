{
  "nbformat": 4,
  "nbformat_minor": 0,
  "metadata": {
    "colab": {
      "provenance": [],
      "gpuType": "T4",
      "include_colab_link": true
    },
    "kernelspec": {
      "name": "python3",
      "display_name": "Python 3"
    },
    "language_info": {
      "name": "python"
    },
    "accelerator": "GPU"
  },
  "cells": [
    {
      "cell_type": "markdown",
      "metadata": {
        "id": "view-in-github",
        "colab_type": "text"
      },
      "source": [
        "<a href=\"https://colab.research.google.com/github/tanyasheru23/PyTorch/blob/main/00_pytorch_tensors.ipynb\" target=\"_parent\"><img src=\"https://colab.research.google.com/assets/colab-badge.svg\" alt=\"Open In Colab\"/></a>"
      ]
    },
    {
      "cell_type": "markdown",
      "source": [
        "Have a happy learning in PyTorch!!!\n"
      ],
      "metadata": {
        "id": "m577PWlOj_-s"
      }
    },
    {
      "cell_type": "code",
      "source": [
        "import torch\n",
        "print(torch.__version__)"
      ],
      "metadata": {
        "colab": {
          "base_uri": "https://localhost:8080/"
        },
        "id": "FXWK38JljvKT",
        "outputId": "bb713cb3-e6b7-4919-e51a-38f5885522a1"
      },
      "execution_count": 1,
      "outputs": [
        {
          "output_type": "stream",
          "name": "stdout",
          "text": [
            "2.2.1+cu121\n"
          ]
        }
      ]
    },
    {
      "cell_type": "markdown",
      "source": [
        "###Introduction to tensors\n",
        "\n",
        "creating tensors\n",
        "\n",
        "represent multidimensional data\n"
      ],
      "metadata": {
        "id": "vS0nCXjVldPm"
      }
    },
    {
      "cell_type": "code",
      "source": [
        "#scalar\n",
        "\n",
        "scalar = torch.tensor(7)\n",
        "scalar\n",
        "#go through documentation"
      ],
      "metadata": {
        "colab": {
          "base_uri": "https://localhost:8080/"
        },
        "id": "rCw575BclXih",
        "outputId": "870f9a7a-f555-4dce-9a36-af0479529774"
      },
      "execution_count": 2,
      "outputs": [
        {
          "output_type": "execute_result",
          "data": {
            "text/plain": [
              "tensor(7)"
            ]
          },
          "metadata": {},
          "execution_count": 2
        }
      ]
    },
    {
      "cell_type": "code",
      "source": [
        "scalar.ndim"
      ],
      "metadata": {
        "colab": {
          "base_uri": "https://localhost:8080/"
        },
        "id": "XQcWC_4xmOCy",
        "outputId": "1e532622-f14c-4f4f-9703-82732f9afd46"
      },
      "execution_count": 3,
      "outputs": [
        {
          "output_type": "execute_result",
          "data": {
            "text/plain": [
              "0"
            ]
          },
          "metadata": {},
          "execution_count": 3
        }
      ]
    },
    {
      "cell_type": "code",
      "source": [
        "#get tensor back as Python int\n",
        "scalar.item()"
      ],
      "metadata": {
        "colab": {
          "base_uri": "https://localhost:8080/"
        },
        "id": "xp5e5jqPms0W",
        "outputId": "72a763d5-7990-422c-962a-77dde8d6cfa7"
      },
      "execution_count": 4,
      "outputs": [
        {
          "output_type": "execute_result",
          "data": {
            "text/plain": [
              "7"
            ]
          },
          "metadata": {},
          "execution_count": 4
        }
      ]
    },
    {
      "cell_type": "code",
      "source": [
        "#vector\n",
        "vector = torch.tensor([6,8])\n",
        "vector"
      ],
      "metadata": {
        "colab": {
          "base_uri": "https://localhost:8080/"
        },
        "id": "21K0fVq3mzba",
        "outputId": "7dc1ea05-d859-4243-e560-3832e1cac3a5"
      },
      "execution_count": 5,
      "outputs": [
        {
          "output_type": "execute_result",
          "data": {
            "text/plain": [
              "tensor([6, 8])"
            ]
          },
          "metadata": {},
          "execution_count": 5
        }
      ]
    },
    {
      "cell_type": "code",
      "source": [
        "vector.ndim\n",
        "#number of sq brackets"
      ],
      "metadata": {
        "colab": {
          "base_uri": "https://localhost:8080/"
        },
        "id": "_Vpqb6a1m76U",
        "outputId": "9a110500-e4af-4bdc-8e3b-d5a7581edab3"
      },
      "execution_count": 6,
      "outputs": [
        {
          "output_type": "execute_result",
          "data": {
            "text/plain": [
              "1"
            ]
          },
          "metadata": {},
          "execution_count": 6
        }
      ]
    },
    {
      "cell_type": "code",
      "source": [
        "vector.shape\n",
        "#2 elements"
      ],
      "metadata": {
        "colab": {
          "base_uri": "https://localhost:8080/"
        },
        "id": "9xQwc8yhm-d2",
        "outputId": "a97b18c3-1c9a-440e-af21-8f183b4c6770"
      },
      "execution_count": 7,
      "outputs": [
        {
          "output_type": "execute_result",
          "data": {
            "text/plain": [
              "torch.Size([2])"
            ]
          },
          "metadata": {},
          "execution_count": 7
        }
      ]
    },
    {
      "cell_type": "code",
      "source": [
        "#Matrix\n",
        "MATRIX = torch.tensor([[2,3],[4,5]])\n",
        "MATRIX"
      ],
      "metadata": {
        "colab": {
          "base_uri": "https://localhost:8080/"
        },
        "id": "tj--ppQYnOv2",
        "outputId": "a3d926e2-af44-471c-b168-1cb2bbf403a8"
      },
      "execution_count": 8,
      "outputs": [
        {
          "output_type": "execute_result",
          "data": {
            "text/plain": [
              "tensor([[2, 3],\n",
              "        [4, 5]])"
            ]
          },
          "metadata": {},
          "execution_count": 8
        }
      ]
    },
    {
      "cell_type": "code",
      "source": [
        "print(MATRIX.ndim)\n",
        "print(MATRIX.shape)\n",
        "MATRIX[1]"
      ],
      "metadata": {
        "colab": {
          "base_uri": "https://localhost:8080/"
        },
        "id": "PbD_UTXenfUh",
        "outputId": "ff40f9af-3975-4936-8d5d-fbf6e70f94c2"
      },
      "execution_count": 9,
      "outputs": [
        {
          "output_type": "stream",
          "name": "stdout",
          "text": [
            "2\n",
            "torch.Size([2, 2])\n"
          ]
        },
        {
          "output_type": "execute_result",
          "data": {
            "text/plain": [
              "tensor([4, 5])"
            ]
          },
          "metadata": {},
          "execution_count": 9
        }
      ]
    },
    {
      "cell_type": "code",
      "source": [
        "#tensor\n",
        "TENSOR = torch.tensor([[[1,2,3],[2,3,4],[8,9,5]]])\n",
        "TENSOR, TENSOR.ndim, TENSOR[0], TENSOR[0,1], TENSOR.shape #1 3/3 tensor,"
      ],
      "metadata": {
        "colab": {
          "base_uri": "https://localhost:8080/"
        },
        "id": "2JYcaG3unoHs",
        "outputId": "f2147b7d-4afc-40fa-8f1b-4061dd0f53c2"
      },
      "execution_count": 10,
      "outputs": [
        {
          "output_type": "execute_result",
          "data": {
            "text/plain": [
              "(tensor([[[1, 2, 3],\n",
              "          [2, 3, 4],\n",
              "          [8, 9, 5]]]),\n",
              " 3,\n",
              " tensor([[1, 2, 3],\n",
              "         [2, 3, 4],\n",
              "         [8, 9, 5]]),\n",
              " tensor([2, 3, 4]),\n",
              " torch.Size([1, 3, 3]))"
            ]
          },
          "metadata": {},
          "execution_count": 10
        }
      ]
    },
    {
      "cell_type": "markdown",
      "source": [
        "Random Tensors\n",
        "\n",
        "Important because, many NN learn is that they start with tensors full of random numbers and then adjust those random numbers for better represent the data\n",
        "\n",
        "start with random numbers ⟶ look at data ⟶ update random numbers ⟶ look at data ⟶ update random numbers"
      ],
      "metadata": {
        "id": "JMl-HQvUrw_I"
      }
    },
    {
      "cell_type": "code",
      "source": [
        "# create a Random tensor of size (3,4)\n",
        "rand_tensor = torch.rand(3,4)\n",
        "#go through the doc\n",
        "rand_tensor"
      ],
      "metadata": {
        "colab": {
          "base_uri": "https://localhost:8080/"
        },
        "id": "nfik2YPBpC7z",
        "outputId": "d07ca31e-5d54-4aa9-cc00-67a02fe04034"
      },
      "execution_count": 11,
      "outputs": [
        {
          "output_type": "execute_result",
          "data": {
            "text/plain": [
              "tensor([[0.4307, 0.1452, 0.0013, 0.3303],\n",
              "        [0.0059, 0.5998, 0.3069, 0.4817],\n",
              "        [0.0850, 0.4709, 0.0024, 0.0709]])"
            ]
          },
          "metadata": {},
          "execution_count": 11
        }
      ]
    },
    {
      "cell_type": "code",
      "source": [
        "print(rand_tensor.ndim)\n",
        "print(rand_tensor.shape)"
      ],
      "metadata": {
        "colab": {
          "base_uri": "https://localhost:8080/"
        },
        "id": "hkbQaaPrsdEO",
        "outputId": "a069eff8-0c15-4c3e-ec8b-5196bec983f0"
      },
      "execution_count": 12,
      "outputs": [
        {
          "output_type": "stream",
          "name": "stdout",
          "text": [
            "2\n",
            "torch.Size([3, 4])\n"
          ]
        }
      ]
    },
    {
      "cell_type": "code",
      "source": [
        "# create a random tensor with similar shape to an image tensor\n",
        "random_image_size_tensor = torch.rand(size=(224, 224, 3))\n",
        "#[224, 224, 3] ([height, width, color_channels]).\n",
        "random_image_size_tensor.shape, random_image_size_tensor.ndim"
      ],
      "metadata": {
        "colab": {
          "base_uri": "https://localhost:8080/"
        },
        "id": "SMwh2yChsg9e",
        "outputId": "5de78b64-42c5-4cfc-ad43-0a1c2ebeffea"
      },
      "execution_count": 13,
      "outputs": [
        {
          "output_type": "execute_result",
          "data": {
            "text/plain": [
              "(torch.Size([224, 224, 3]), 3)"
            ]
          },
          "metadata": {},
          "execution_count": 13
        }
      ]
    },
    {
      "cell_type": "markdown",
      "source": [
        "Zeroes and Ones"
      ],
      "metadata": {
        "id": "ehm5r7Lot46G"
      }
    },
    {
      "cell_type": "code",
      "source": [
        "# create a tensor of all zeroes\n",
        "zeros = torch.zeros(3,4)\n",
        "# create a tensor of all ones\n",
        "ones = torch.ones(3,4)\n",
        "\n",
        "zeros, ones, ones.dtype"
      ],
      "metadata": {
        "colab": {
          "base_uri": "https://localhost:8080/"
        },
        "id": "u94YHJPFu1zq",
        "outputId": "47addf9c-ac0a-4c8e-a1ec-9a0ad33119dd"
      },
      "execution_count": 14,
      "outputs": [
        {
          "output_type": "execute_result",
          "data": {
            "text/plain": [
              "(tensor([[0., 0., 0., 0.],\n",
              "         [0., 0., 0., 0.],\n",
              "         [0., 0., 0., 0.]]),\n",
              " tensor([[1., 1., 1., 1.],\n",
              "         [1., 1., 1., 1.],\n",
              "         [1., 1., 1., 1.]]),\n",
              " torch.float32)"
            ]
          },
          "metadata": {},
          "execution_count": 14
        }
      ]
    },
    {
      "cell_type": "markdown",
      "source": [
        "### Tensor like, ranges"
      ],
      "metadata": {
        "id": "tiKOKbTEvCZz"
      }
    },
    {
      "cell_type": "code",
      "source": [
        "one_to_ten = torch.arange(1,23,2)\n",
        "some_zeros = torch.zeros_like(input=one_to_ten)\n",
        "\n",
        "one_to_ten, some_zeros"
      ],
      "metadata": {
        "colab": {
          "base_uri": "https://localhost:8080/"
        },
        "id": "bPArbiGTy6Rt",
        "outputId": "aed2409e-8108-4929-eb44-d175b563e368"
      },
      "execution_count": 15,
      "outputs": [
        {
          "output_type": "execute_result",
          "data": {
            "text/plain": [
              "(tensor([ 1,  3,  5,  7,  9, 11, 13, 15, 17, 19, 21]),\n",
              " tensor([0, 0, 0, 0, 0, 0, 0, 0, 0, 0, 0]))"
            ]
          },
          "metadata": {},
          "execution_count": 15
        }
      ]
    },
    {
      "cell_type": "markdown",
      "source": [
        "###Tensor datatypes\n",
        "\n",
        "**Note:** Tensor datatypes is one of the 3 big errors you'll run into with PyTorch and DL\n",
        "1. Tensors not right datatype\n",
        "2. Tensors not right shape(while mat multiplication)\n",
        "3. Tensors not on the right device"
      ],
      "metadata": {
        "id": "NHp1kWVUzUkv"
      }
    },
    {
      "cell_type": "code",
      "source": [
        "fl_32 = torch.tensor([3.0,6.0,9.0],dtype=None, device = None)\n",
        "fl_32.dtype"
      ],
      "metadata": {
        "colab": {
          "base_uri": "https://localhost:8080/"
        },
        "id": "52Tu3-9j0fve",
        "outputId": "1ac3ddc2-dd09-48d2-c2a0-91590122e956"
      },
      "execution_count": 16,
      "outputs": [
        {
          "output_type": "execute_result",
          "data": {
            "text/plain": [
              "torch.float32"
            ]
          },
          "metadata": {},
          "execution_count": 16
        }
      ]
    },
    {
      "cell_type": "code",
      "source": [
        "fl_16 = fl_32.type(torch.float16)\n",
        "fl_16"
      ],
      "metadata": {
        "colab": {
          "base_uri": "https://localhost:8080/"
        },
        "id": "kl1uYxg71pHV",
        "outputId": "6a8b1482-ae2b-449e-bf4d-c62badae28ba"
      },
      "execution_count": 17,
      "outputs": [
        {
          "output_type": "execute_result",
          "data": {
            "text/plain": [
              "tensor([3., 6., 9.], dtype=torch.float16)"
            ]
          },
          "metadata": {},
          "execution_count": 17
        }
      ]
    },
    {
      "cell_type": "code",
      "source": [
        "t = fl_16*fl_32\n",
        "t.dtype"
      ],
      "metadata": {
        "colab": {
          "base_uri": "https://localhost:8080/"
        },
        "id": "sfnmcYGc1sxz",
        "outputId": "be9d1770-a7e6-49a8-ea79-139d381dd9ea"
      },
      "execution_count": 18,
      "outputs": [
        {
          "output_type": "execute_result",
          "data": {
            "text/plain": [
              "torch.float32"
            ]
          },
          "metadata": {},
          "execution_count": 18
        }
      ]
    },
    {
      "cell_type": "code",
      "source": [
        "int_32 = torch.tensor([3,6,9], dtype=torch.int32)\n",
        "int_32"
      ],
      "metadata": {
        "colab": {
          "base_uri": "https://localhost:8080/"
        },
        "id": "w6wYcg-019ug",
        "outputId": "c7f128e8-410d-4bd7-fe2d-599bdf97094e"
      },
      "execution_count": 19,
      "outputs": [
        {
          "output_type": "execute_result",
          "data": {
            "text/plain": [
              "tensor([3, 6, 9], dtype=torch.int32)"
            ]
          },
          "metadata": {},
          "execution_count": 19
        }
      ]
    },
    {
      "cell_type": "code",
      "source": [
        "int_32*fl_16"
      ],
      "metadata": {
        "colab": {
          "base_uri": "https://localhost:8080/"
        },
        "id": "MhkRMWug2Sqq",
        "outputId": "7d799ed8-050c-4dc2-ee2a-0b1b51ee6a82"
      },
      "execution_count": 20,
      "outputs": [
        {
          "output_type": "execute_result",
          "data": {
            "text/plain": [
              "tensor([ 9., 36., 81.], dtype=torch.float16)"
            ]
          },
          "metadata": {},
          "execution_count": 20
        }
      ]
    },
    {
      "cell_type": "code",
      "source": [
        "some_tensor = torch.rand(3,4)\n",
        "print(some_tensor)\n",
        "print(f\"Shape of the Tensor: {some_tensor.shape}\")\n",
        "print(f\"DataType of the Tensor: {some_tensor.dtype}\")\n",
        "print(f\"Device tensor is on: {some_tensor.device}\")"
      ],
      "metadata": {
        "colab": {
          "base_uri": "https://localhost:8080/"
        },
        "id": "AcOw590s2Unm",
        "outputId": "11eb5be5-bdf2-4fc3-9e1a-723e815ba0c8"
      },
      "execution_count": 21,
      "outputs": [
        {
          "output_type": "stream",
          "name": "stdout",
          "text": [
            "tensor([[0.9396, 0.3059, 0.8022, 0.6806],\n",
            "        [0.0162, 0.9515, 0.1149, 0.0878],\n",
            "        [0.9845, 0.9417, 0.9138, 0.2429]])\n",
            "Shape of the Tensor: torch.Size([3, 4])\n",
            "DataType of the Tensor: torch.float32\n",
            "Device tensor is on: cpu\n"
          ]
        }
      ]
    },
    {
      "cell_type": "markdown",
      "source": [
        "### Manipulating Tensors(tensor operations)\n",
        "\n",
        "Tensor operations include\n",
        "* addition\n",
        "* subtraction\n",
        "* multiplication\n",
        "* division\n",
        "* matrix multiplication"
      ],
      "metadata": {
        "id": "xyOLtCa83l5R"
      }
    },
    {
      "cell_type": "code",
      "source": [
        "tensor = torch.tensor([1,2,3])\n",
        "print(tensor + 10)\n",
        "print(tensor*10)\n",
        "# tryout inbuilt functions\n",
        "torch.mul(tensor,2)"
      ],
      "metadata": {
        "colab": {
          "base_uri": "https://localhost:8080/"
        },
        "id": "PKvH-El_6xcd",
        "outputId": "48234095-4b26-4a84-8f74-63e86c77a42c"
      },
      "execution_count": 22,
      "outputs": [
        {
          "output_type": "stream",
          "name": "stdout",
          "text": [
            "tensor([11, 12, 13])\n",
            "tensor([10, 20, 30])\n"
          ]
        },
        {
          "output_type": "execute_result",
          "data": {
            "text/plain": [
              "tensor([2, 4, 6])"
            ]
          },
          "metadata": {},
          "execution_count": 22
        }
      ]
    },
    {
      "cell_type": "code",
      "source": [
        "# element wise multiplication\n",
        "print(tensor,\"*\",tensor)\n",
        "print(f\"Equals: {tensor*tensor}\")\n",
        "\n",
        "#matrix multiplication)\n",
        "\n",
        "print(f\"Matrix multiplication equals: {torch.matmul(tensor,tensor)}\")\n"
      ],
      "metadata": {
        "colab": {
          "base_uri": "https://localhost:8080/"
        },
        "id": "229WI4UF7D1X",
        "outputId": "40829ee2-07eb-4cb3-f8a2-84fb0d4c8e58"
      },
      "execution_count": 23,
      "outputs": [
        {
          "output_type": "stream",
          "name": "stdout",
          "text": [
            "tensor([1, 2, 3]) * tensor([1, 2, 3])\n",
            "Equals: tensor([1, 4, 9])\n",
            "Matrix multiplication equals: 14\n"
          ]
        }
      ]
    },
    {
      "cell_type": "code",
      "source": [
        "%%time\n",
        "value = 0\n",
        "for i in range(len(tensor)):\n",
        "  value+= tensor[i]*tensor[i]\n",
        "print(value)"
      ],
      "metadata": {
        "colab": {
          "base_uri": "https://localhost:8080/"
        },
        "id": "rTPq-hCX8QWc",
        "outputId": "64b546d3-cdc6-4c3f-8531-c20db6941447"
      },
      "execution_count": 24,
      "outputs": [
        {
          "output_type": "stream",
          "name": "stdout",
          "text": [
            "tensor(14)\n",
            "CPU times: user 468 µs, sys: 93 µs, total: 561 µs\n",
            "Wall time: 1.66 ms\n"
          ]
        }
      ]
    },
    {
      "cell_type": "code",
      "source": [
        "%%time\n",
        "torch.matmul(tensor,tensor)"
      ],
      "metadata": {
        "colab": {
          "base_uri": "https://localhost:8080/"
        },
        "id": "xbAnB-vY87m_",
        "outputId": "0c852063-8e6b-4837-b8b2-d40a2b0a2096"
      },
      "execution_count": 25,
      "outputs": [
        {
          "output_type": "stream",
          "name": "stdout",
          "text": [
            "CPU times: user 30 µs, sys: 6 µs, total: 36 µs\n",
            "Wall time: 39.1 µs\n"
          ]
        },
        {
          "output_type": "execute_result",
          "data": {
            "text/plain": [
              "tensor(14)"
            ]
          },
          "metadata": {},
          "execution_count": 25
        }
      ]
    },
    {
      "cell_type": "markdown",
      "source": [
        "### one of the most COMMON ERRORS in DL\n",
        "\n",
        "2 main rules that performing matmul need to satisfy:\n",
        "1. The **inner dimensions** must match\n",
        "2. The resulting matrix has the shape of the **outer dimensions**"
      ],
      "metadata": {
        "id": "2e0-4PIK9BDl"
      }
    },
    {
      "cell_type": "code",
      "source": [
        "# shapes for matrix multiplication\n",
        "tensor_A = torch.tensor([[1,2],\n",
        "                         [3,4],\n",
        "                         [5,6]])\n",
        "tensor_B = torch.tensor([[7,10],\n",
        "                         [8,11],\n",
        "                         [9,12]])\n",
        "#torch.mm(tensor_A,tensor_B) can't be multiplied\n",
        "#torch.mm is short form of torch.matmul\n",
        "print(tensor_A)\n",
        "print(tensor_B,tensor_B.shape)"
      ],
      "metadata": {
        "colab": {
          "base_uri": "https://localhost:8080/"
        },
        "id": "kwRqlMqz-P3h",
        "outputId": "b511bf30-3ff6-478f-a977-7b64d9409325"
      },
      "execution_count": 26,
      "outputs": [
        {
          "output_type": "stream",
          "name": "stdout",
          "text": [
            "tensor([[1, 2],\n",
            "        [3, 4],\n",
            "        [5, 6]])\n",
            "tensor([[ 7, 10],\n",
            "        [ 8, 11],\n",
            "        [ 9, 12]]) torch.Size([3, 2])\n"
          ]
        }
      ]
    },
    {
      "cell_type": "code",
      "source": [
        "tensor_B.T, tensor_B.T.shape"
      ],
      "metadata": {
        "colab": {
          "base_uri": "https://localhost:8080/"
        },
        "id": "VcYAvrQ4PWk3",
        "outputId": "112efd43-468b-493a-b257-ca1294d7a44d"
      },
      "execution_count": 27,
      "outputs": [
        {
          "output_type": "execute_result",
          "data": {
            "text/plain": [
              "(tensor([[ 7,  8,  9],\n",
              "         [10, 11, 12]]),\n",
              " torch.Size([2, 3]))"
            ]
          },
          "metadata": {},
          "execution_count": 27
        }
      ]
    },
    {
      "cell_type": "code",
      "source": [
        "torch.mm(tensor_A, tensor_B.T),torch.mm(tensor_A, tensor_B.T).shape"
      ],
      "metadata": {
        "colab": {
          "base_uri": "https://localhost:8080/"
        },
        "id": "ELdwTJWwPo5g",
        "outputId": "6c086d5e-72c2-4f25-8c59-dbf5fa8a1d2e"
      },
      "execution_count": 28,
      "outputs": [
        {
          "output_type": "execute_result",
          "data": {
            "text/plain": [
              "(tensor([[ 27,  30,  33],\n",
              "         [ 61,  68,  75],\n",
              "         [ 95, 106, 117]]),\n",
              " torch.Size([3, 3]))"
            ]
          },
          "metadata": {},
          "execution_count": 28
        }
      ]
    },
    {
      "cell_type": "markdown",
      "source": [
        "## Find the min, max, mean, sum, etc (tensor aggregation)"
      ],
      "metadata": {
        "id": "iW1XhWH-P9-6"
      }
    },
    {
      "cell_type": "code",
      "source": [
        "x = torch.arange(3,105, 10)\n",
        "x, x.dtype"
      ],
      "metadata": {
        "colab": {
          "base_uri": "https://localhost:8080/"
        },
        "id": "OGyRuTmjRbex",
        "outputId": "36085739-a6ed-4c30-e51c-b5195d7ad07c"
      },
      "execution_count": 29,
      "outputs": [
        {
          "output_type": "execute_result",
          "data": {
            "text/plain": [
              "(tensor([  3,  13,  23,  33,  43,  53,  63,  73,  83,  93, 103]), torch.int64)"
            ]
          },
          "metadata": {},
          "execution_count": 29
        }
      ]
    },
    {
      "cell_type": "code",
      "source": [
        "torch.min(x), x.min()"
      ],
      "metadata": {
        "colab": {
          "base_uri": "https://localhost:8080/"
        },
        "id": "5Fm7LpxzSWQn",
        "outputId": "d7e61996-d69d-48c9-a58a-2d27dd30e0d5"
      },
      "execution_count": 30,
      "outputs": [
        {
          "output_type": "execute_result",
          "data": {
            "text/plain": [
              "(tensor(3), tensor(3))"
            ]
          },
          "metadata": {},
          "execution_count": 30
        }
      ]
    },
    {
      "cell_type": "code",
      "source": [
        "torch.max(x), x.max()"
      ],
      "metadata": {
        "colab": {
          "base_uri": "https://localhost:8080/"
        },
        "id": "wcdposCdSZ4b",
        "outputId": "bbc60247-8fe5-46dd-f9b8-157c99289d7a"
      },
      "execution_count": 31,
      "outputs": [
        {
          "output_type": "execute_result",
          "data": {
            "text/plain": [
              "(tensor(103), tensor(103))"
            ]
          },
          "metadata": {},
          "execution_count": 31
        }
      ]
    },
    {
      "cell_type": "code",
      "source": [
        "#torch.mean inputs only datatype of float32\n",
        "#hence we need to convert type of x\n",
        "torch.mean(x.type(torch.float32)), x.type(torch.float32).mean()"
      ],
      "metadata": {
        "colab": {
          "base_uri": "https://localhost:8080/"
        },
        "id": "P5tvZzttScIc",
        "outputId": "f4480257-19d9-4f14-d832-cd240c8cac7a"
      },
      "execution_count": 32,
      "outputs": [
        {
          "output_type": "execute_result",
          "data": {
            "text/plain": [
              "(tensor(53.), tensor(53.))"
            ]
          },
          "metadata": {},
          "execution_count": 32
        }
      ]
    },
    {
      "cell_type": "code",
      "source": [
        "# sum\n",
        "torch.sum(x), x.sum()"
      ],
      "metadata": {
        "colab": {
          "base_uri": "https://localhost:8080/"
        },
        "id": "awsLeQoGSkqY",
        "outputId": "b523686c-c5b3-49f5-8411-5ba9822189e6"
      },
      "execution_count": 33,
      "outputs": [
        {
          "output_type": "execute_result",
          "data": {
            "text/plain": [
              "(tensor(583), tensor(583))"
            ]
          },
          "metadata": {},
          "execution_count": 33
        }
      ]
    },
    {
      "cell_type": "code",
      "source": [
        "# index position of min and max values in the tensor\n",
        "x.argmin(), x.argmax()"
      ],
      "metadata": {
        "colab": {
          "base_uri": "https://localhost:8080/"
        },
        "id": "93POdhUyTEHy",
        "outputId": "6d187987-d892-4a9c-c48a-addae9f93235"
      },
      "execution_count": 34,
      "outputs": [
        {
          "output_type": "execute_result",
          "data": {
            "text/plain": [
              "(tensor(0), tensor(10))"
            ]
          },
          "metadata": {},
          "execution_count": 34
        }
      ]
    },
    {
      "cell_type": "markdown",
      "source": [
        "### Reshaping, stacking, squeezing and unsqueezing tensors\n",
        "* Reshaping - reshapes an input tensor to a defined shape\n",
        "* View - return a view of an input tensor of certain shape but keep the same memory as th original tensor\n",
        "* Stacking - combine multiple tensors on top of each other (vstack) or side by side (hstack)\n",
        "* Squeeze - removes all 1 dimensions from a tensor\n",
        "* Unsqueeze - add a 1 dimension to a target tensor\n",
        "* Permute - Return a view of the input with dimensions permuted(swapped) in a certain way"
      ],
      "metadata": {
        "id": "TaVktrkKTWUv"
      }
    },
    {
      "cell_type": "code",
      "source": [
        "# Let's create a tensor\n",
        "x = torch.arange(1.0,10.0)\n",
        "x"
      ],
      "metadata": {
        "colab": {
          "base_uri": "https://localhost:8080/"
        },
        "id": "jE5Okb-GWiOc",
        "outputId": "f37c2892-008c-4e1e-eebd-8aa787f8c52e"
      },
      "execution_count": 35,
      "outputs": [
        {
          "output_type": "execute_result",
          "data": {
            "text/plain": [
              "tensor([1., 2., 3., 4., 5., 6., 7., 8., 9.])"
            ]
          },
          "metadata": {},
          "execution_count": 35
        }
      ]
    },
    {
      "cell_type": "code",
      "source": [
        "x_reshaped = x.reshape(3,3)\n",
        "x_reshaped"
      ],
      "metadata": {
        "colab": {
          "base_uri": "https://localhost:8080/"
        },
        "id": "UADknMHSYFC4",
        "outputId": "721dfcbb-9b9a-4022-c8f0-b620cdeddfb4"
      },
      "execution_count": 36,
      "outputs": [
        {
          "output_type": "execute_result",
          "data": {
            "text/plain": [
              "tensor([[1., 2., 3.],\n",
              "        [4., 5., 6.],\n",
              "        [7., 8., 9.]])"
            ]
          },
          "metadata": {},
          "execution_count": 36
        }
      ]
    },
    {
      "cell_type": "code",
      "source": [
        "x_reshape = x.reshape(1,9)\n",
        "x_reshape"
      ],
      "metadata": {
        "colab": {
          "base_uri": "https://localhost:8080/"
        },
        "id": "bNRjmeL3YNpj",
        "outputId": "a132c708-992d-4e45-bda7-571880a25c25"
      },
      "execution_count": 37,
      "outputs": [
        {
          "output_type": "execute_result",
          "data": {
            "text/plain": [
              "tensor([[1., 2., 3., 4., 5., 6., 7., 8., 9.]])"
            ]
          },
          "metadata": {},
          "execution_count": 37
        }
      ]
    },
    {
      "cell_type": "code",
      "source": [
        "z = x.view(1,9)\n",
        "#here as z shares the same memory as x, any changes made in z will also show up in the original x\n",
        "print(z)\n",
        "z[:,0]=5.0\n",
        "print(z)\n",
        "print(x)"
      ],
      "metadata": {
        "colab": {
          "base_uri": "https://localhost:8080/"
        },
        "id": "1aQ7c8o-YUmI",
        "outputId": "62ce3b03-ba86-4880-e78a-62a6336b3b03"
      },
      "execution_count": 38,
      "outputs": [
        {
          "output_type": "stream",
          "name": "stdout",
          "text": [
            "tensor([[1., 2., 3., 4., 5., 6., 7., 8., 9.]])\n",
            "tensor([[5., 2., 3., 4., 5., 6., 7., 8., 9.]])\n",
            "tensor([5., 2., 3., 4., 5., 6., 7., 8., 9.])\n"
          ]
        }
      ]
    },
    {
      "cell_type": "code",
      "source": [
        "#stacking the tensors\n",
        "x_stacked = torch.stack((x,x,x,x),dim=1)\n",
        "x_stacked, x_stacked.shape"
      ],
      "metadata": {
        "colab": {
          "base_uri": "https://localhost:8080/"
        },
        "id": "geL6btZnYs8g",
        "outputId": "e63311e6-636c-42cf-f7c6-e8222184fdf5"
      },
      "execution_count": 39,
      "outputs": [
        {
          "output_type": "execute_result",
          "data": {
            "text/plain": [
              "(tensor([[5., 5., 5., 5.],\n",
              "         [2., 2., 2., 2.],\n",
              "         [3., 3., 3., 3.],\n",
              "         [4., 4., 4., 4.],\n",
              "         [5., 5., 5., 5.],\n",
              "         [6., 6., 6., 6.],\n",
              "         [7., 7., 7., 7.],\n",
              "         [8., 8., 8., 8.],\n",
              "         [9., 9., 9., 9.]]),\n",
              " torch.Size([9, 4]))"
            ]
          },
          "metadata": {},
          "execution_count": 39
        }
      ]
    },
    {
      "cell_type": "code",
      "source": [
        "torch.vstack((x,x,x,x)), torch.vstack((x,x,x,x)).shape"
      ],
      "metadata": {
        "colab": {
          "base_uri": "https://localhost:8080/"
        },
        "id": "QifbNqO_ZKbR",
        "outputId": "f6edcf26-b696-4ddd-b23f-1f06798b8cf3"
      },
      "execution_count": 40,
      "outputs": [
        {
          "output_type": "execute_result",
          "data": {
            "text/plain": [
              "(tensor([[5., 2., 3., 4., 5., 6., 7., 8., 9.],\n",
              "         [5., 2., 3., 4., 5., 6., 7., 8., 9.],\n",
              "         [5., 2., 3., 4., 5., 6., 7., 8., 9.],\n",
              "         [5., 2., 3., 4., 5., 6., 7., 8., 9.]]),\n",
              " torch.Size([4, 9]))"
            ]
          },
          "metadata": {},
          "execution_count": 40
        }
      ]
    },
    {
      "cell_type": "code",
      "source": [
        "torch.hstack((x,x,x,x)), torch.hstack((x,x,x,x)).shape"
      ],
      "metadata": {
        "colab": {
          "base_uri": "https://localhost:8080/"
        },
        "id": "64wsXCxSZegJ",
        "outputId": "7b3dca08-8281-40af-b0e9-25facb666f9c"
      },
      "execution_count": 41,
      "outputs": [
        {
          "output_type": "execute_result",
          "data": {
            "text/plain": [
              "(tensor([5., 2., 3., 4., 5., 6., 7., 8., 9., 5., 2., 3., 4., 5., 6., 7., 8., 9.,\n",
              "         5., 2., 3., 4., 5., 6., 7., 8., 9., 5., 2., 3., 4., 5., 6., 7., 8., 9.]),\n",
              " torch.Size([36]))"
            ]
          },
          "metadata": {},
          "execution_count": 41
        }
      ]
    },
    {
      "cell_type": "code",
      "source": [
        "print(f\"Previous tensor: {x_reshape}\\n\")\n",
        "print(f\"Previous shape: {x_reshape.shape}\\n\")\n",
        "\n",
        "#remove extra dimensions from the x_reshaped\n",
        "x_squeezed = x_reshape.squeeze()\n",
        "print(f\"New Tensor: {x_squeezed}\\n\")\n",
        "print(f\"New shape: {x_squeezed.shape}\")"
      ],
      "metadata": {
        "colab": {
          "base_uri": "https://localhost:8080/"
        },
        "id": "B_V9DhpYZytE",
        "outputId": "8c96d467-2b86-4432-f291-5d5d24cd4fc5"
      },
      "execution_count": 42,
      "outputs": [
        {
          "output_type": "stream",
          "name": "stdout",
          "text": [
            "Previous tensor: tensor([[5., 2., 3., 4., 5., 6., 7., 8., 9.]])\n",
            "\n",
            "Previous shape: torch.Size([1, 9])\n",
            "\n",
            "New Tensor: tensor([5., 2., 3., 4., 5., 6., 7., 8., 9.])\n",
            "\n",
            "New shape: torch.Size([9])\n"
          ]
        }
      ]
    },
    {
      "cell_type": "code",
      "source": [
        "#torch.unsqueeze adds a single dim to a target at a specific dim\n",
        "print(f\"Previous tensor: {x_squeezed}\\n\")\n",
        "print(f\"Previous shape: {x_squeezed.shape}\\n\")\n",
        "\n",
        "#add an extra dimension with unsqueeze\n",
        "x_unsqueezed = x_squeezed.unsqueeze(dim=1) #add dim at dim 1\n",
        "print(f\"New Tensor: {x_unsqueezed}\\n\")\n",
        "print(f\"New shape: {x_unsqueezed.shape}\\n\\n\")\n",
        "\n",
        "x_unsqueezed = x_squeezed.unsqueeze(dim=0) #add dim at dim 0\n",
        "print(f\"New Tensor: {x_unsqueezed}\\n\")\n",
        "print(f\"New shape: {x_unsqueezed.shape}\")"
      ],
      "metadata": {
        "colab": {
          "base_uri": "https://localhost:8080/"
        },
        "id": "po3HQb3wVnLZ",
        "outputId": "2acd303a-5626-4992-e192-0e763c3316b2"
      },
      "execution_count": 43,
      "outputs": [
        {
          "output_type": "stream",
          "name": "stdout",
          "text": [
            "Previous tensor: tensor([5., 2., 3., 4., 5., 6., 7., 8., 9.])\n",
            "\n",
            "Previous shape: torch.Size([9])\n",
            "\n",
            "New Tensor: tensor([[5.],\n",
            "        [2.],\n",
            "        [3.],\n",
            "        [4.],\n",
            "        [5.],\n",
            "        [6.],\n",
            "        [7.],\n",
            "        [8.],\n",
            "        [9.]])\n",
            "\n",
            "New shape: torch.Size([9, 1])\n",
            "\n",
            "\n",
            "New Tensor: tensor([[5., 2., 3., 4., 5., 6., 7., 8., 9.]])\n",
            "\n",
            "New shape: torch.Size([1, 9])\n"
          ]
        }
      ]
    },
    {
      "cell_type": "code",
      "source": [
        "x_new = x_reshape.reshape(3,3)\n",
        "print(f\"Previous tensor: {x_new}\\n\")\n",
        "print(f\"Previous shape: {x_new.shape}\\n\")\n",
        "\n",
        "#remove extra dimensions from the x_new\n",
        "x_squeezed = x_new.squeeze()\n",
        "print(f\"New Tensor: {x_squeezed}\\n\")\n",
        "print(f\"New shape: {x_squeezed.shape}\")"
      ],
      "metadata": {
        "colab": {
          "base_uri": "https://localhost:8080/"
        },
        "id": "9hPszhf2VCn_",
        "outputId": "921215fe-3f03-4500-a524-b34333749e8b"
      },
      "execution_count": 44,
      "outputs": [
        {
          "output_type": "stream",
          "name": "stdout",
          "text": [
            "Previous tensor: tensor([[5., 2., 3.],\n",
            "        [4., 5., 6.],\n",
            "        [7., 8., 9.]])\n",
            "\n",
            "Previous shape: torch.Size([3, 3])\n",
            "\n",
            "New Tensor: tensor([[5., 2., 3.],\n",
            "        [4., 5., 6.],\n",
            "        [7., 8., 9.]])\n",
            "\n",
            "New shape: torch.Size([3, 3])\n"
          ]
        }
      ]
    },
    {
      "cell_type": "code",
      "source": [
        "#torch.unsqueeze adds a single dim to a target at a specific dim\n",
        "print(f\"Previous tensor: {x_squeezed}\\n\")\n",
        "print(f\"Previous shape: {x_squeezed.shape}\\n\")\n",
        "\n",
        "#add an extra dimension with unsqueeze\n",
        "print(\"Unsqueezing in Dim 2\")\n",
        "x_unsqueezed = x_squeezed.unsqueeze(dim=2) #add dim at dim 2\n",
        "print(f\"New Tensor: {x_unsqueezed}\\n\")\n",
        "print(f\"New shape: {x_unsqueezed.shape}\\n\")\n",
        "print(\"---------------------------------------\\n\")\n",
        "\n",
        "print(\"Unsqueezing in Dim 1\\n\")\n",
        "x_unsqueezed = x_squeezed.unsqueeze(dim=1) #add dim at dim 1\n",
        "print(f\"New Tensor: {x_unsqueezed}\\n\")\n",
        "print(f\"New shape: {x_unsqueezed.shape}\\n\")\n",
        "print(\"---------------------------------------\\n\")\n",
        "\n",
        "print(\"Unsqueezing in Dim 0\\n\")\n",
        "x_unsqueezed = x_squeezed.unsqueeze(dim=0) #add dim at dim 0\n",
        "print(f\"New Tensor: {x_unsqueezed}\\n\")\n",
        "print(f\"New shape: {x_unsqueezed.shape}\")\n",
        "print(\"---------------------------------------\")\n"
      ],
      "metadata": {
        "colab": {
          "base_uri": "https://localhost:8080/"
        },
        "id": "JExj_6phaVkO",
        "outputId": "92a2ecc7-7dfe-4850-f021-1634864b400e"
      },
      "execution_count": 45,
      "outputs": [
        {
          "output_type": "stream",
          "name": "stdout",
          "text": [
            "Previous tensor: tensor([[5., 2., 3.],\n",
            "        [4., 5., 6.],\n",
            "        [7., 8., 9.]])\n",
            "\n",
            "Previous shape: torch.Size([3, 3])\n",
            "\n",
            "Unsqueezing in Dim 2\n",
            "New Tensor: tensor([[[5.],\n",
            "         [2.],\n",
            "         [3.]],\n",
            "\n",
            "        [[4.],\n",
            "         [5.],\n",
            "         [6.]],\n",
            "\n",
            "        [[7.],\n",
            "         [8.],\n",
            "         [9.]]])\n",
            "\n",
            "New shape: torch.Size([3, 3, 1])\n",
            "\n",
            "---------------------------------------\n",
            "\n",
            "Unsqueezing in Dim 1\n",
            "\n",
            "New Tensor: tensor([[[5., 2., 3.]],\n",
            "\n",
            "        [[4., 5., 6.]],\n",
            "\n",
            "        [[7., 8., 9.]]])\n",
            "\n",
            "New shape: torch.Size([3, 1, 3])\n",
            "\n",
            "---------------------------------------\n",
            "\n",
            "Unsqueezing in Dim 0\n",
            "\n",
            "New Tensor: tensor([[[5., 2., 3.],\n",
            "         [4., 5., 6.],\n",
            "         [7., 8., 9.]]])\n",
            "\n",
            "New shape: torch.Size([1, 3, 3])\n",
            "---------------------------------------\n"
          ]
        }
      ]
    },
    {
      "cell_type": "markdown",
      "source": [
        "Permute is commonly used with images"
      ],
      "metadata": {
        "id": "1Wr5ADtpgMZo"
      }
    },
    {
      "cell_type": "code",
      "source": [
        "# torch.permute rearranges the dimensions of a target tensor in a specified order\n",
        "x = torch.randint(2,10,(2,4,3))\n",
        "print(f\"The size of the tensor is: {x.shape}\\n\")\n",
        "print(f\"The tensor is: {x}\\n\\n\")\n",
        "\n",
        "#now rearrange the shape as you need by changing in the index of the dim\n",
        "print(\"\\n-------------New permutation 2,0,1---------------------\\n\")\n",
        "x_permuted = x.permute(2,0,1)\n",
        "print(f\"The size of the permuted tensor is: {x_permuted.shape}\\n\")\n",
        "print(f\"The permuted tensor is: {x_permuted}\")\n"
      ],
      "metadata": {
        "colab": {
          "base_uri": "https://localhost:8080/"
        },
        "id": "O3ZPk35_eJ2s",
        "outputId": "cc621667-87a8-4a6d-c580-dd47e01df9ef"
      },
      "execution_count": 46,
      "outputs": [
        {
          "output_type": "stream",
          "name": "stdout",
          "text": [
            "The size of the tensor is: torch.Size([2, 4, 3])\n",
            "\n",
            "The tensor is: tensor([[[7, 8, 4],\n",
            "         [9, 2, 9],\n",
            "         [8, 5, 9],\n",
            "         [3, 3, 2]],\n",
            "\n",
            "        [[2, 7, 5],\n",
            "         [4, 8, 5],\n",
            "         [5, 4, 4],\n",
            "         [9, 7, 4]]])\n",
            "\n",
            "\n",
            "\n",
            "-------------New permutation 2,0,1---------------------\n",
            "\n",
            "The size of the permuted tensor is: torch.Size([3, 2, 4])\n",
            "\n",
            "The permuted tensor is: tensor([[[7, 9, 8, 3],\n",
            "         [2, 4, 5, 9]],\n",
            "\n",
            "        [[8, 2, 5, 3],\n",
            "         [7, 8, 4, 7]],\n",
            "\n",
            "        [[4, 9, 9, 2],\n",
            "         [5, 5, 4, 4]]])\n"
          ]
        }
      ]
    },
    {
      "cell_type": "code",
      "source": [
        "# permuted and original tensors share the same memory\n",
        "# try changing the value in permuted on and check the original one\n",
        "\n",
        "x_permuted[:,:,0] = 0\n",
        "print(f\"The new permuted tensor is: {x_permuted}\\n\")\n",
        "print(f\"Now let's see what happened in the original tensor: {x}\")"
      ],
      "metadata": {
        "colab": {
          "base_uri": "https://localhost:8080/"
        },
        "id": "h2ao3Ah4gAFH",
        "outputId": "33cbafaa-a914-40e2-ceac-2aa71dc41c52"
      },
      "execution_count": 47,
      "outputs": [
        {
          "output_type": "stream",
          "name": "stdout",
          "text": [
            "The new permuted tensor is: tensor([[[0, 9, 8, 3],\n",
            "         [0, 4, 5, 9]],\n",
            "\n",
            "        [[0, 2, 5, 3],\n",
            "         [0, 8, 4, 7]],\n",
            "\n",
            "        [[0, 9, 9, 2],\n",
            "         [0, 5, 4, 4]]])\n",
            "\n",
            "Now let's see what happened in the original tensor: tensor([[[0, 0, 0],\n",
            "         [9, 2, 9],\n",
            "         [8, 5, 9],\n",
            "         [3, 3, 2]],\n",
            "\n",
            "        [[0, 0, 0],\n",
            "         [4, 8, 5],\n",
            "         [5, 4, 4],\n",
            "         [9, 7, 4]]])\n"
          ]
        }
      ]
    },
    {
      "cell_type": "code",
      "source": [
        "x = torch.randint(2,10,(2,4,3))\n",
        "\n",
        "print(\"\\n-------------New permutation 1,2,0---------------------\\n\")\n",
        "x_permuted = x.permute(1,2,0)\n",
        "print(f\"The size of the permuted tensor is: {x_permuted.shape}\\n\")\n",
        "print(f\"The permuted tensor is: {x_permuted}\")"
      ],
      "metadata": {
        "colab": {
          "base_uri": "https://localhost:8080/"
        },
        "id": "PyePqn5HX-VU",
        "outputId": "c393dc27-c76d-4a59-ed78-fb50a77e7ba6"
      },
      "execution_count": 48,
      "outputs": [
        {
          "output_type": "stream",
          "name": "stdout",
          "text": [
            "\n",
            "-------------New permutation 1,2,0---------------------\n",
            "\n",
            "The size of the permuted tensor is: torch.Size([4, 3, 2])\n",
            "\n",
            "The permuted tensor is: tensor([[[4, 5],\n",
            "         [3, 6],\n",
            "         [3, 7]],\n",
            "\n",
            "        [[9, 4],\n",
            "         [6, 2],\n",
            "         [3, 3]],\n",
            "\n",
            "        [[4, 3],\n",
            "         [8, 4],\n",
            "         [3, 2]],\n",
            "\n",
            "        [[9, 6],\n",
            "         [6, 4],\n",
            "         [2, 6]]])\n"
          ]
        }
      ]
    },
    {
      "cell_type": "code",
      "source": [
        "# permuted and original tensors share the same memory\n",
        "# try changing the value in permuted on and check the original one\n",
        "\n",
        "x_permuted[:,:,0] = 0\n",
        "print(f\"The new permuted tensor is: {x_permuted}\\n\")\n",
        "print(f\"Now let's see what happened in the original tensor: {x}\")"
      ],
      "metadata": {
        "colab": {
          "base_uri": "https://localhost:8080/"
        },
        "id": "p1cqTNVCYGKQ",
        "outputId": "24c98261-d8ce-479d-a318-69d8e3456cdb"
      },
      "execution_count": 49,
      "outputs": [
        {
          "output_type": "stream",
          "name": "stdout",
          "text": [
            "The new permuted tensor is: tensor([[[0, 5],\n",
            "         [0, 6],\n",
            "         [0, 7]],\n",
            "\n",
            "        [[0, 4],\n",
            "         [0, 2],\n",
            "         [0, 3]],\n",
            "\n",
            "        [[0, 3],\n",
            "         [0, 4],\n",
            "         [0, 2]],\n",
            "\n",
            "        [[0, 6],\n",
            "         [0, 4],\n",
            "         [0, 6]]])\n",
            "\n",
            "Now let's see what happened in the original tensor: tensor([[[0, 0, 0],\n",
            "         [0, 0, 0],\n",
            "         [0, 0, 0],\n",
            "         [0, 0, 0]],\n",
            "\n",
            "        [[5, 6, 7],\n",
            "         [4, 2, 3],\n",
            "         [3, 4, 2],\n",
            "         [6, 4, 6]]])\n"
          ]
        }
      ]
    },
    {
      "cell_type": "code",
      "source": [
        "import torch\n",
        "x = torch.arange(1,10).reshape(1,3,3)\n",
        "x, x.shape"
      ],
      "metadata": {
        "colab": {
          "base_uri": "https://localhost:8080/"
        },
        "id": "FCrlg3TUrYmM",
        "outputId": "c502199c-fb7d-4d9a-afa6-5f172f3e6036"
      },
      "execution_count": 50,
      "outputs": [
        {
          "output_type": "execute_result",
          "data": {
            "text/plain": [
              "(tensor([[[1, 2, 3],\n",
              "          [4, 5, 6],\n",
              "          [7, 8, 9]]]),\n",
              " torch.Size([1, 3, 3]))"
            ]
          },
          "metadata": {},
          "execution_count": 50
        }
      ]
    },
    {
      "cell_type": "code",
      "source": [
        "x[0]"
      ],
      "metadata": {
        "colab": {
          "base_uri": "https://localhost:8080/"
        },
        "id": "OxpBHcwfr5od",
        "outputId": "0f6ee873-50b7-4b5e-9148-47877f331d61"
      },
      "execution_count": 51,
      "outputs": [
        {
          "output_type": "execute_result",
          "data": {
            "text/plain": [
              "tensor([[1, 2, 3],\n",
              "        [4, 5, 6],\n",
              "        [7, 8, 9]])"
            ]
          },
          "metadata": {},
          "execution_count": 51
        }
      ]
    },
    {
      "cell_type": "code",
      "source": [
        "x[0,0] #or x[0][0]"
      ],
      "metadata": {
        "colab": {
          "base_uri": "https://localhost:8080/"
        },
        "id": "Tzk9RaGPr6-g",
        "outputId": "315db391-f2b1-4a79-853d-ed05e3023e66"
      },
      "execution_count": 52,
      "outputs": [
        {
          "output_type": "execute_result",
          "data": {
            "text/plain": [
              "tensor([1, 2, 3])"
            ]
          },
          "metadata": {},
          "execution_count": 52
        }
      ]
    },
    {
      "cell_type": "code",
      "source": [
        "# let's index on most inner bracket\n",
        "x[0][2][1]"
      ],
      "metadata": {
        "colab": {
          "base_uri": "https://localhost:8080/"
        },
        "id": "gsS7CqZbr_G4",
        "outputId": "0b7b9c8d-2c35-4e15-d24b-5ea018918428"
      },
      "execution_count": 53,
      "outputs": [
        {
          "output_type": "execute_result",
          "data": {
            "text/plain": [
              "tensor(8)"
            ]
          },
          "metadata": {},
          "execution_count": 53
        }
      ]
    },
    {
      "cell_type": "code",
      "source": [
        "# you can use \":\" to select all of a target dimension\n",
        "x[:,0]"
      ],
      "metadata": {
        "colab": {
          "base_uri": "https://localhost:8080/"
        },
        "id": "xEcZ3lxrsGcr",
        "outputId": "d4f50737-55b8-4b8c-c837-79d67f6f9da0"
      },
      "execution_count": 54,
      "outputs": [
        {
          "output_type": "execute_result",
          "data": {
            "text/plain": [
              "tensor([[1, 2, 3]])"
            ]
          },
          "metadata": {},
          "execution_count": 54
        }
      ]
    },
    {
      "cell_type": "code",
      "source": [
        "x[:,:,0]"
      ],
      "metadata": {
        "colab": {
          "base_uri": "https://localhost:8080/"
        },
        "id": "Hufwb2ydseZZ",
        "outputId": "ad5bd7f3-9aaf-42ed-d793-7b4c4421101f"
      },
      "execution_count": 55,
      "outputs": [
        {
          "output_type": "execute_result",
          "data": {
            "text/plain": [
              "tensor([[1, 4, 7]])"
            ]
          },
          "metadata": {},
          "execution_count": 55
        }
      ]
    },
    {
      "cell_type": "code",
      "source": [
        "x[0,2,:]"
      ],
      "metadata": {
        "colab": {
          "base_uri": "https://localhost:8080/"
        },
        "id": "1A6NpxEJsg7S",
        "outputId": "7180141d-6639-43cf-bded-a38cd71cba72"
      },
      "execution_count": 56,
      "outputs": [
        {
          "output_type": "execute_result",
          "data": {
            "text/plain": [
              "tensor([7, 8, 9])"
            ]
          },
          "metadata": {},
          "execution_count": 56
        }
      ]
    },
    {
      "cell_type": "code",
      "source": [],
      "metadata": {
        "id": "7SHcDNcLddzI"
      },
      "execution_count": 56,
      "outputs": []
    },
    {
      "cell_type": "code",
      "source": [
        "import torch\n",
        "x = torch.arange(1,19).reshape(3,3,2)\n",
        "x, x.shape"
      ],
      "metadata": {
        "colab": {
          "base_uri": "https://localhost:8080/"
        },
        "outputId": "8febebea-d55b-4e6f-ef3f-1a530f06e8cb",
        "id": "SQ-1_l-5dVVw"
      },
      "execution_count": 57,
      "outputs": [
        {
          "output_type": "execute_result",
          "data": {
            "text/plain": [
              "(tensor([[[ 1,  2],\n",
              "          [ 3,  4],\n",
              "          [ 5,  6]],\n",
              " \n",
              "         [[ 7,  8],\n",
              "          [ 9, 10],\n",
              "          [11, 12]],\n",
              " \n",
              "         [[13, 14],\n",
              "          [15, 16],\n",
              "          [17, 18]]]),\n",
              " torch.Size([3, 3, 2]))"
            ]
          },
          "metadata": {},
          "execution_count": 57
        }
      ]
    },
    {
      "cell_type": "code",
      "source": [
        "x[0]"
      ],
      "metadata": {
        "colab": {
          "base_uri": "https://localhost:8080/"
        },
        "outputId": "a8db3627-000d-4b50-8d07-7d6ec758920f",
        "id": "2RASKfNSdVVx"
      },
      "execution_count": 58,
      "outputs": [
        {
          "output_type": "execute_result",
          "data": {
            "text/plain": [
              "tensor([[1, 2],\n",
              "        [3, 4],\n",
              "        [5, 6]])"
            ]
          },
          "metadata": {},
          "execution_count": 58
        }
      ]
    },
    {
      "cell_type": "code",
      "source": [
        "x[0,0] #or x[0][0]"
      ],
      "metadata": {
        "colab": {
          "base_uri": "https://localhost:8080/"
        },
        "outputId": "11f1fc54-f37e-4d11-a1fa-e7b12ec03544",
        "id": "EWu2B7bedVVy"
      },
      "execution_count": 59,
      "outputs": [
        {
          "output_type": "execute_result",
          "data": {
            "text/plain": [
              "tensor([1, 2])"
            ]
          },
          "metadata": {},
          "execution_count": 59
        }
      ]
    },
    {
      "cell_type": "code",
      "source": [
        "# let's index on most inner bracket\n",
        "x[0][2][1]"
      ],
      "metadata": {
        "colab": {
          "base_uri": "https://localhost:8080/"
        },
        "outputId": "55f46a05-5932-4baf-ecca-fefc7b0f4618",
        "id": "YlNWrdQCdVVz"
      },
      "execution_count": 60,
      "outputs": [
        {
          "output_type": "execute_result",
          "data": {
            "text/plain": [
              "tensor(6)"
            ]
          },
          "metadata": {},
          "execution_count": 60
        }
      ]
    },
    {
      "cell_type": "code",
      "source": [
        "# you can use \":\" to select all of a target dimension\n",
        "x[:,0]"
      ],
      "metadata": {
        "colab": {
          "base_uri": "https://localhost:8080/"
        },
        "outputId": "2132107a-d3f8-4bcd-806b-be439245833d",
        "id": "l6QwaCCfdVVz"
      },
      "execution_count": 61,
      "outputs": [
        {
          "output_type": "execute_result",
          "data": {
            "text/plain": [
              "tensor([[ 1,  2],\n",
              "        [ 7,  8],\n",
              "        [13, 14]])"
            ]
          },
          "metadata": {},
          "execution_count": 61
        }
      ]
    },
    {
      "cell_type": "code",
      "source": [
        "x[:,:,0]"
      ],
      "metadata": {
        "colab": {
          "base_uri": "https://localhost:8080/"
        },
        "outputId": "772255a9-f243-4ee9-87bb-ffee13bbb29a",
        "id": "pRuHSu9pdVVz"
      },
      "execution_count": 62,
      "outputs": [
        {
          "output_type": "execute_result",
          "data": {
            "text/plain": [
              "tensor([[ 1,  3,  5],\n",
              "        [ 7,  9, 11],\n",
              "        [13, 15, 17]])"
            ]
          },
          "metadata": {},
          "execution_count": 62
        }
      ]
    },
    {
      "cell_type": "code",
      "source": [
        "x[0,2,:]"
      ],
      "metadata": {
        "colab": {
          "base_uri": "https://localhost:8080/"
        },
        "outputId": "40d2e239-3b7f-4115-c6ce-9b9da101bc42",
        "id": "xJaJdgm4dVV0"
      },
      "execution_count": 63,
      "outputs": [
        {
          "output_type": "execute_result",
          "data": {
            "text/plain": [
              "tensor([5, 6])"
            ]
          },
          "metadata": {},
          "execution_count": 63
        }
      ]
    },
    {
      "cell_type": "code",
      "source": [
        "# Indexing (selecting data from tensors)\n",
        "# similar to numpy"
      ],
      "metadata": {
        "id": "PARfo14EhWDH"
      },
      "execution_count": 64,
      "outputs": []
    },
    {
      "cell_type": "markdown",
      "source": [
        "### PyTorch and NumPy\n",
        "\n",
        "NumPy is a popular scientific Python numerical computing library\n",
        "And because of this, PyTorch has functionality to interact with it.\n",
        "* Data in NumPy, want in PyTorch tensor -> `torch.from_numpy(ndarray)`\n",
        "* PyTorch tensor -> NumPy -> `torch.Tensor.numpy()`"
      ],
      "metadata": {
        "id": "SD8bmBIZssrK"
      }
    },
    {
      "cell_type": "code",
      "source": [
        "#numpys default dtype is float 64 whereas torch's tensor default dtype is float32\n",
        "import numpy as np\n",
        "\n",
        "array = np.arange(1.0,10.0)\n",
        "tensor = torch.from_numpy(array)\n",
        "array, tensor\n"
      ],
      "metadata": {
        "colab": {
          "base_uri": "https://localhost:8080/"
        },
        "id": "yhH_A0MCt9On",
        "outputId": "d1674869-708f-4d1e-da45-8d17ce4dd365"
      },
      "execution_count": 65,
      "outputs": [
        {
          "output_type": "execute_result",
          "data": {
            "text/plain": [
              "(array([1., 2., 3., 4., 5., 6., 7., 8., 9.]),\n",
              " tensor([1., 2., 3., 4., 5., 6., 7., 8., 9.], dtype=torch.float64))"
            ]
          },
          "metadata": {},
          "execution_count": 65
        }
      ]
    },
    {
      "cell_type": "code",
      "source": [
        "#change the value in array -> what affect will it have on tensor\n",
        "array = array+1\n",
        "array, tensor\n",
        "#it didn't change i.e both have different memory space"
      ],
      "metadata": {
        "colab": {
          "base_uri": "https://localhost:8080/"
        },
        "id": "xAstuJPtve3d",
        "outputId": "7ccacc62-1575-47b7-9649-b79d2200aedd"
      },
      "execution_count": 66,
      "outputs": [
        {
          "output_type": "execute_result",
          "data": {
            "text/plain": [
              "(array([ 2.,  3.,  4.,  5.,  6.,  7.,  8.,  9., 10.]),\n",
              " tensor([1., 2., 3., 4., 5., 6., 7., 8., 9.], dtype=torch.float64))"
            ]
          },
          "metadata": {},
          "execution_count": 66
        }
      ]
    },
    {
      "cell_type": "code",
      "source": [
        "# Tensor to NumPy array\n",
        "tensor = torch.ones(7)\n",
        "numpy_tensor = tensor.numpy()\n",
        "numpy_tensor\n",
        "#default dtype of array will be that of tensor now"
      ],
      "metadata": {
        "colab": {
          "base_uri": "https://localhost:8080/"
        },
        "id": "wUIDpxWyv2La",
        "outputId": "69f9677b-b7eb-4d57-f1d2-952f04e3eb19"
      },
      "execution_count": 67,
      "outputs": [
        {
          "output_type": "execute_result",
          "data": {
            "text/plain": [
              "array([1., 1., 1., 1., 1., 1., 1.], dtype=float32)"
            ]
          },
          "metadata": {},
          "execution_count": 67
        }
      ]
    },
    {
      "cell_type": "markdown",
      "source": [
        "## Reproducability (trying to take random out of random)\n",
        "\n",
        "In short how s neural network learns:\n",
        "`start with random numbers -> tensor operations -> update random numbers to try and make them better representation of the data -> again -> again -> again..`\n",
        "\n",
        "To reduce the randomness in neural networks and PyTorch comes the concept of a **random seed**.\n",
        "\n",
        "Essentially what the random seed does is \"flavour\" the randomness.\n",
        "\n",
        "A pseudorandom number generator's number sequence is completely determined by the seed: thus, if a pseudorandom number generator is reinitialized with the same seed, it will produce the same sequence of numbers."
      ],
      "metadata": {
        "id": "G-4LswBE0n96"
      }
    },
    {
      "cell_type": "code",
      "source": [
        "# Let's make some random but reproducilble tensors\n",
        "\n",
        "#set the random seed\n",
        "RANDOM_SEED = 42\n",
        "torch.manual_seed(RANDOM_SEED)\n",
        "random_tensor_A = torch.rand(3,4)\n",
        "\n",
        "#the below line of code works only for one random gen\n",
        "torch.manual_seed(RANDOM_SEED)\n",
        "random_tensor_B = torch.rand(3,4)\n",
        "\n",
        "print(random_tensor_A)\n",
        "print(random_tensor_B)\n",
        "print(random_tensor_B==random_tensor_A)\n",
        "#hence we get the same random numbers or data"
      ],
      "metadata": {
        "colab": {
          "base_uri": "https://localhost:8080/"
        },
        "id": "co5whOfp1ymm",
        "outputId": "83e89e2b-25cf-44e8-c365-12d7cf53f97e"
      },
      "execution_count": 68,
      "outputs": [
        {
          "output_type": "stream",
          "name": "stdout",
          "text": [
            "tensor([[0.8823, 0.9150, 0.3829, 0.9593],\n",
            "        [0.3904, 0.6009, 0.2566, 0.7936],\n",
            "        [0.9408, 0.1332, 0.9346, 0.5936]])\n",
            "tensor([[0.8823, 0.9150, 0.3829, 0.9593],\n",
            "        [0.3904, 0.6009, 0.2566, 0.7936],\n",
            "        [0.9408, 0.1332, 0.9346, 0.5936]])\n",
            "tensor([[True, True, True, True],\n",
            "        [True, True, True, True],\n",
            "        [True, True, True, True]])\n"
          ]
        }
      ]
    },
    {
      "cell_type": "markdown",
      "source": [
        "## Running tensors and PyTorch objects on the GPUs (and making computations easier)"
      ],
      "metadata": {
        "id": "YUZZFNCuA2sJ"
      }
    },
    {
      "cell_type": "code",
      "source": [
        "!nvidia-smi"
      ],
      "metadata": {
        "colab": {
          "base_uri": "https://localhost:8080/"
        },
        "id": "UNzPqOWHBkxr",
        "outputId": "6662cdcf-c989-4a9f-ed92-ac6ae1203981"
      },
      "execution_count": 69,
      "outputs": [
        {
          "output_type": "stream",
          "name": "stdout",
          "text": [
            "Sun Mar 17 10:45:26 2024       \n",
            "+---------------------------------------------------------------------------------------+\n",
            "| NVIDIA-SMI 535.104.05             Driver Version: 535.104.05   CUDA Version: 12.2     |\n",
            "|-----------------------------------------+----------------------+----------------------+\n",
            "| GPU  Name                 Persistence-M | Bus-Id        Disp.A | Volatile Uncorr. ECC |\n",
            "| Fan  Temp   Perf          Pwr:Usage/Cap |         Memory-Usage | GPU-Util  Compute M. |\n",
            "|                                         |                      |               MIG M. |\n",
            "|=========================================+======================+======================|\n",
            "|   0  Tesla T4                       Off | 00000000:00:04.0 Off |                    0 |\n",
            "| N/A   54C    P8              10W /  70W |      0MiB / 15360MiB |      0%      Default |\n",
            "|                                         |                      |                  N/A |\n",
            "+-----------------------------------------+----------------------+----------------------+\n",
            "                                                                                         \n",
            "+---------------------------------------------------------------------------------------+\n",
            "| Processes:                                                                            |\n",
            "|  GPU   GI   CI        PID   Type   Process name                            GPU Memory |\n",
            "|        ID   ID                                                             Usage      |\n",
            "|=======================================================================================|\n",
            "|  No running processes found                                                           |\n",
            "+---------------------------------------------------------------------------------------+\n"
          ]
        }
      ]
    },
    {
      "cell_type": "code",
      "source": [
        "#check for GPU access with PyTorch\n",
        "import torch\n",
        "torch.cuda.is_available()"
      ],
      "metadata": {
        "colab": {
          "base_uri": "https://localhost:8080/"
        },
        "id": "kUjMhAbNCxIa",
        "outputId": "60628d9c-2478-442d-e9d6-ea928d0bcc8e"
      },
      "execution_count": 70,
      "outputs": [
        {
          "output_type": "execute_result",
          "data": {
            "text/plain": [
              "True"
            ]
          },
          "metadata": {},
          "execution_count": 70
        }
      ]
    },
    {
      "cell_type": "code",
      "source": [
        "# Set-up device agnostic code\n",
        "device = \"cuda\" if torch.cuda.is_available() else \"cpu\"\n",
        "device"
      ],
      "metadata": {
        "colab": {
          "base_uri": "https://localhost:8080/",
          "height": 35
        },
        "id": "HQpyVkjoEb8K",
        "outputId": "d4e8e5f0-13ae-4944-feaa-4f05aea8630a"
      },
      "execution_count": 71,
      "outputs": [
        {
          "output_type": "execute_result",
          "data": {
            "text/plain": [
              "'cuda'"
            ],
            "application/vnd.google.colaboratory.intrinsic+json": {
              "type": "string"
            }
          },
          "metadata": {},
          "execution_count": 71
        }
      ]
    },
    {
      "cell_type": "code",
      "source": [
        "#count number of devices\n",
        "torch.cuda.device_count()"
      ],
      "metadata": {
        "colab": {
          "base_uri": "https://localhost:8080/"
        },
        "id": "NPaz0VBiE603",
        "outputId": "101d3eec-e6d9-468d-9957-a829301c4eaa"
      },
      "execution_count": 72,
      "outputs": [
        {
          "output_type": "execute_result",
          "data": {
            "text/plain": [
              "1"
            ]
          },
          "metadata": {},
          "execution_count": 72
        }
      ]
    },
    {
      "cell_type": "markdown",
      "source": [
        "Putting tensors on the GPU"
      ],
      "metadata": {
        "id": "4J3TFjdrN9cY"
      }
    },
    {
      "cell_type": "code",
      "source": [
        "import torch\n",
        "# create a tensor (default on the CPU)\n",
        "tensor = torch.tensor([1,2,3])\n",
        "\n",
        "# Tensor not on GPU\n",
        "print(tensor, tensor.device)"
      ],
      "metadata": {
        "colab": {
          "base_uri": "https://localhost:8080/"
        },
        "id": "kbd7VOD6E_8R",
        "outputId": "4fffabc6-86ee-4acd-9a0a-122100f3eaec"
      },
      "execution_count": 73,
      "outputs": [
        {
          "output_type": "stream",
          "name": "stdout",
          "text": [
            "tensor([1, 2, 3]) cpu\n"
          ]
        }
      ]
    },
    {
      "cell_type": "code",
      "source": [
        "# Move tensor to GPU (if available)\n",
        "tensor_on_gpu = tensor.to(device)\n",
        "tensor_on_gpu"
      ],
      "metadata": {
        "colab": {
          "base_uri": "https://localhost:8080/"
        },
        "id": "_YKM-kkLNVWB",
        "outputId": "d7dd7fa7-6c30-4f36-b7cd-1d31e46626d4"
      },
      "execution_count": 74,
      "outputs": [
        {
          "output_type": "execute_result",
          "data": {
            "text/plain": [
              "tensor([1, 2, 3], device='cuda:0')"
            ]
          },
          "metadata": {},
          "execution_count": 74
        }
      ]
    },
    {
      "cell_type": "markdown",
      "source": [
        "Moving tensors back to the CPU"
      ],
      "metadata": {
        "id": "XpcKz60EOBBA"
      }
    },
    {
      "cell_type": "code",
      "source": [
        "# If tensor is on GPU, can't transform it to NumPy\n",
        "tensor_on_gpu.numpy()"
      ],
      "metadata": {
        "colab": {
          "base_uri": "https://localhost:8080/",
          "height": 159
        },
        "id": "RjMkF1BPNlV5",
        "outputId": "8fddb0dc-74c8-4a5a-8f95-a22a8db65e8a"
      },
      "execution_count": 75,
      "outputs": [
        {
          "output_type": "error",
          "ename": "TypeError",
          "evalue": "can't convert cuda:0 device type tensor to numpy. Use Tensor.cpu() to copy the tensor to host memory first.",
          "traceback": [
            "\u001b[0;31m---------------------------------------------------------------------------\u001b[0m",
            "\u001b[0;31mTypeError\u001b[0m                                 Traceback (most recent call last)",
            "\u001b[0;32m<ipython-input-75-b7da913938a5>\u001b[0m in \u001b[0;36m<cell line: 2>\u001b[0;34m()\u001b[0m\n\u001b[1;32m      1\u001b[0m \u001b[0;31m# If tensor is on GPU, can't transform it to NumPy\u001b[0m\u001b[0;34m\u001b[0m\u001b[0;34m\u001b[0m\u001b[0m\n\u001b[0;32m----> 2\u001b[0;31m \u001b[0mtensor_on_gpu\u001b[0m\u001b[0;34m.\u001b[0m\u001b[0mnumpy\u001b[0m\u001b[0;34m(\u001b[0m\u001b[0;34m)\u001b[0m\u001b[0;34m\u001b[0m\u001b[0;34m\u001b[0m\u001b[0m\n\u001b[0m",
            "\u001b[0;31mTypeError\u001b[0m: can't convert cuda:0 device type tensor to numpy. Use Tensor.cpu() to copy the tensor to host memory first."
          ]
        }
      ]
    },
    {
      "cell_type": "code",
      "source": [
        "# To fix the GPU tensor with NumPy issue, we can first set it to the CPU\n",
        "tensor_back_on_cpu = tensor_on_gpu.cpu().numpy()\n",
        "tensor_back_on_cpu"
      ],
      "metadata": {
        "colab": {
          "base_uri": "https://localhost:8080/"
        },
        "id": "qoX3XVP7OVbY",
        "outputId": "d72e48ef-d716-4534-d33f-f52771f96b0f"
      },
      "execution_count": 76,
      "outputs": [
        {
          "output_type": "execute_result",
          "data": {
            "text/plain": [
              "array([1, 2, 3])"
            ]
          },
          "metadata": {},
          "execution_count": 76
        }
      ]
    },
    {
      "cell_type": "code",
      "source": [
        "tensor_on_gpu"
      ],
      "metadata": {
        "colab": {
          "base_uri": "https://localhost:8080/"
        },
        "id": "FXrslHEYOpmc",
        "outputId": "758e48b5-5820-4eb8-8710-38841e903d84"
      },
      "execution_count": 77,
      "outputs": [
        {
          "output_type": "execute_result",
          "data": {
            "text/plain": [
              "tensor([1, 2, 3], device='cuda:0')"
            ]
          },
          "metadata": {},
          "execution_count": 77
        }
      ]
    }
  ]
}