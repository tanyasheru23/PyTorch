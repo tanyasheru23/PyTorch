{
  "nbformat": 4,
  "nbformat_minor": 0,
  "metadata": {
    "colab": {
      "provenance": [],
      "authorship_tag": "ABX9TyMJvxgPiRG4tId9vSM/1tEz",
      "include_colab_link": true
    },
    "kernelspec": {
      "name": "python3",
      "display_name": "Python 3"
    },
    "language_info": {
      "name": "python"
    }
  },
  "cells": [
    {
      "cell_type": "markdown",
      "metadata": {
        "id": "view-in-github",
        "colab_type": "text"
      },
      "source": [
        "<a href=\"https://colab.research.google.com/github/tanyasheru23/PyTorch/blob/main/00_pytorch_tensors.ipynb\" target=\"_parent\"><img src=\"https://colab.research.google.com/assets/colab-badge.svg\" alt=\"Open In Colab\"/></a>"
      ]
    },
    {
      "cell_type": "markdown",
      "source": [
        "Have a happy learning in PyTorch!!!\n"
      ],
      "metadata": {
        "id": "m577PWlOj_-s"
      }
    },
    {
      "cell_type": "code",
      "source": [
        "import torch\n",
        "print(torch.__version__)"
      ],
      "metadata": {
        "colab": {
          "base_uri": "https://localhost:8080/"
        },
        "id": "FXWK38JljvKT",
        "outputId": "8389651f-ea88-4dae-be27-cabb33e1abe4"
      },
      "execution_count": null,
      "outputs": [
        {
          "output_type": "stream",
          "name": "stdout",
          "text": [
            "2.2.1+cu121\n"
          ]
        }
      ]
    },
    {
      "cell_type": "markdown",
      "source": [
        "###Introduction to tensors\n",
        "\n",
        "creating tensors\n",
        "\n",
        "represent multidimensional data\n"
      ],
      "metadata": {
        "id": "vS0nCXjVldPm"
      }
    },
    {
      "cell_type": "code",
      "source": [
        "#scalar\n",
        "\n",
        "scalar = torch.tensor(7)\n",
        "scalar\n",
        "#go through documentation"
      ],
      "metadata": {
        "colab": {
          "base_uri": "https://localhost:8080/"
        },
        "id": "rCw575BclXih",
        "outputId": "a327a8d1-5004-4bdf-9751-5449cd9b87cb"
      },
      "execution_count": null,
      "outputs": [
        {
          "output_type": "execute_result",
          "data": {
            "text/plain": [
              "tensor(7)"
            ]
          },
          "metadata": {},
          "execution_count": 2
        }
      ]
    },
    {
      "cell_type": "code",
      "source": [
        "scalar.ndim"
      ],
      "metadata": {
        "colab": {
          "base_uri": "https://localhost:8080/"
        },
        "id": "XQcWC_4xmOCy",
        "outputId": "6e6c9b6a-84e6-4a05-95e9-52f5ae4c12ac"
      },
      "execution_count": null,
      "outputs": [
        {
          "output_type": "execute_result",
          "data": {
            "text/plain": [
              "0"
            ]
          },
          "metadata": {},
          "execution_count": 3
        }
      ]
    },
    {
      "cell_type": "code",
      "source": [
        "#get tensor back as Python int\n",
        "scalar.item()"
      ],
      "metadata": {
        "colab": {
          "base_uri": "https://localhost:8080/"
        },
        "id": "xp5e5jqPms0W",
        "outputId": "d3dde88f-dd3f-4997-f57a-964724c54e2a"
      },
      "execution_count": null,
      "outputs": [
        {
          "output_type": "execute_result",
          "data": {
            "text/plain": [
              "7"
            ]
          },
          "metadata": {},
          "execution_count": 4
        }
      ]
    },
    {
      "cell_type": "code",
      "source": [
        "#vector\n",
        "vector = torch.tensor([6,8])\n",
        "vector"
      ],
      "metadata": {
        "colab": {
          "base_uri": "https://localhost:8080/"
        },
        "id": "21K0fVq3mzba",
        "outputId": "0b5fc502-7d24-4909-a428-e480fe5951df"
      },
      "execution_count": null,
      "outputs": [
        {
          "output_type": "execute_result",
          "data": {
            "text/plain": [
              "tensor([6, 8])"
            ]
          },
          "metadata": {},
          "execution_count": 5
        }
      ]
    },
    {
      "cell_type": "code",
      "source": [
        "vector.ndim\n",
        "#number of sq brackets"
      ],
      "metadata": {
        "colab": {
          "base_uri": "https://localhost:8080/"
        },
        "id": "_Vpqb6a1m76U",
        "outputId": "0539ff48-bea9-43ff-e35e-384a14a30d76"
      },
      "execution_count": null,
      "outputs": [
        {
          "output_type": "execute_result",
          "data": {
            "text/plain": [
              "1"
            ]
          },
          "metadata": {},
          "execution_count": 6
        }
      ]
    },
    {
      "cell_type": "code",
      "source": [
        "vector.shape\n",
        "#2 elements"
      ],
      "metadata": {
        "colab": {
          "base_uri": "https://localhost:8080/"
        },
        "id": "9xQwc8yhm-d2",
        "outputId": "5ddc2e22-f9f6-4d16-b603-ea2f178a9b88"
      },
      "execution_count": null,
      "outputs": [
        {
          "output_type": "execute_result",
          "data": {
            "text/plain": [
              "torch.Size([2])"
            ]
          },
          "metadata": {},
          "execution_count": 7
        }
      ]
    },
    {
      "cell_type": "code",
      "source": [
        "#Matrix\n",
        "MATRIX = torch.tensor([[2,3],[4,5]])\n",
        "MATRIX"
      ],
      "metadata": {
        "colab": {
          "base_uri": "https://localhost:8080/"
        },
        "id": "tj--ppQYnOv2",
        "outputId": "56137ff7-6c60-4261-eaec-9411127be738"
      },
      "execution_count": null,
      "outputs": [
        {
          "output_type": "execute_result",
          "data": {
            "text/plain": [
              "tensor([[2, 3],\n",
              "        [4, 5]])"
            ]
          },
          "metadata": {},
          "execution_count": 8
        }
      ]
    },
    {
      "cell_type": "code",
      "source": [
        "print(MATRIX.ndim)\n",
        "print(MATRIX.shape)\n",
        "MATRIX[1]"
      ],
      "metadata": {
        "colab": {
          "base_uri": "https://localhost:8080/"
        },
        "id": "PbD_UTXenfUh",
        "outputId": "7549e9ea-1ed2-49b7-983e-dcea99224bdb"
      },
      "execution_count": null,
      "outputs": [
        {
          "output_type": "stream",
          "name": "stdout",
          "text": [
            "2\n",
            "torch.Size([2, 2])\n"
          ]
        },
        {
          "output_type": "execute_result",
          "data": {
            "text/plain": [
              "tensor([4, 5])"
            ]
          },
          "metadata": {},
          "execution_count": 9
        }
      ]
    },
    {
      "cell_type": "code",
      "source": [
        "#tensor\n",
        "TENSOR = torch.tensor([[[1,2,3],[2,3,4],[8,9,5]]])\n",
        "TENSOR, TENSOR.ndim, TENSOR[0], TENSOR[0,1], TENSOR.shape #1 3/3 tensor,"
      ],
      "metadata": {
        "colab": {
          "base_uri": "https://localhost:8080/"
        },
        "id": "2JYcaG3unoHs",
        "outputId": "00f17a59-97ef-4a2d-bc83-effd6a7e93df"
      },
      "execution_count": null,
      "outputs": [
        {
          "output_type": "execute_result",
          "data": {
            "text/plain": [
              "(tensor([[[1, 2, 3],\n",
              "          [2, 3, 4],\n",
              "          [8, 9, 5]]]),\n",
              " 3,\n",
              " tensor([[1, 2, 3],\n",
              "         [2, 3, 4],\n",
              "         [8, 9, 5]]),\n",
              " tensor([2, 3, 4]),\n",
              " torch.Size([1, 3, 3]))"
            ]
          },
          "metadata": {},
          "execution_count": 10
        }
      ]
    },
    {
      "cell_type": "markdown",
      "source": [
        "Random Tensors\n",
        "\n",
        "Important because, many NN learn is that they start with tensors full of random numbers and then adjust those random numbers for better represent the data\n",
        "\n",
        "start with random numbers ⟶ look at data ⟶ update random numbers ⟶ look at data ⟶ update random numbers"
      ],
      "metadata": {
        "id": "JMl-HQvUrw_I"
      }
    },
    {
      "cell_type": "code",
      "source": [
        "# create a Random tensor of size (3,4)\n",
        "rand_tensor = torch.rand(3,4)\n",
        "#go through the doc\n",
        "rand_tensor"
      ],
      "metadata": {
        "colab": {
          "base_uri": "https://localhost:8080/"
        },
        "id": "nfik2YPBpC7z",
        "outputId": "57cc73e0-ac39-4e4b-ccc2-bbce779491bb"
      },
      "execution_count": null,
      "outputs": [
        {
          "output_type": "execute_result",
          "data": {
            "text/plain": [
              "tensor([[0.9718, 0.9765, 0.0808, 0.1954],\n",
              "        [0.5665, 0.4545, 0.7092, 0.8205],\n",
              "        [0.3211, 0.5651, 0.4337, 0.4840]])"
            ]
          },
          "metadata": {},
          "execution_count": 11
        }
      ]
    },
    {
      "cell_type": "code",
      "source": [
        "print(rand_tensor.ndim)\n",
        "print(rand_tensor.shape)"
      ],
      "metadata": {
        "colab": {
          "base_uri": "https://localhost:8080/"
        },
        "id": "hkbQaaPrsdEO",
        "outputId": "1f1c2dfa-43d6-44ad-cd0f-35d5cfc6f063"
      },
      "execution_count": null,
      "outputs": [
        {
          "output_type": "stream",
          "name": "stdout",
          "text": [
            "2\n",
            "torch.Size([3, 4])\n"
          ]
        }
      ]
    },
    {
      "cell_type": "code",
      "source": [
        "# create a random tensor with similar shape to an image tensor\n",
        "random_image_size_tensor = torch.rand(size=(224, 224, 3))\n",
        "#[224, 224, 3] ([height, width, color_channels]).\n",
        "random_image_size_tensor.shape, random_image_size_tensor.ndim"
      ],
      "metadata": {
        "colab": {
          "base_uri": "https://localhost:8080/"
        },
        "id": "SMwh2yChsg9e",
        "outputId": "610f566b-f039-47bb-faab-b1290cf33dc9"
      },
      "execution_count": null,
      "outputs": [
        {
          "output_type": "execute_result",
          "data": {
            "text/plain": [
              "(torch.Size([224, 224, 3]), 3)"
            ]
          },
          "metadata": {},
          "execution_count": 13
        }
      ]
    },
    {
      "cell_type": "markdown",
      "source": [
        "Zeroes and Ones"
      ],
      "metadata": {
        "id": "ehm5r7Lot46G"
      }
    },
    {
      "cell_type": "code",
      "source": [
        "# create a tensor of all zeroes\n",
        "zeros = torch.zeros(3,4)\n",
        "# create a tensor of all ones\n",
        "ones = torch.ones(3,4)\n",
        "\n",
        "zeros, ones, ones.dtype"
      ],
      "metadata": {
        "colab": {
          "base_uri": "https://localhost:8080/"
        },
        "id": "u94YHJPFu1zq",
        "outputId": "cecebd6b-e513-42ca-98e5-888ab1dfc81e"
      },
      "execution_count": null,
      "outputs": [
        {
          "output_type": "execute_result",
          "data": {
            "text/plain": [
              "(tensor([[0., 0., 0., 0.],\n",
              "         [0., 0., 0., 0.],\n",
              "         [0., 0., 0., 0.]]),\n",
              " tensor([[1., 1., 1., 1.],\n",
              "         [1., 1., 1., 1.],\n",
              "         [1., 1., 1., 1.]]),\n",
              " torch.float32)"
            ]
          },
          "metadata": {},
          "execution_count": 14
        }
      ]
    },
    {
      "cell_type": "markdown",
      "source": [
        "### Tensor like, ranges"
      ],
      "metadata": {
        "id": "tiKOKbTEvCZz"
      }
    },
    {
      "cell_type": "code",
      "source": [
        "one_to_ten = torch.arange(1,23,2)\n",
        "some_zeros = torch.zeros_like(input=one_to_ten)\n",
        "\n",
        "one_to_ten, some_zeros"
      ],
      "metadata": {
        "colab": {
          "base_uri": "https://localhost:8080/"
        },
        "id": "bPArbiGTy6Rt",
        "outputId": "2f3235d1-4c61-403b-e227-94e6abce074b"
      },
      "execution_count": null,
      "outputs": [
        {
          "output_type": "execute_result",
          "data": {
            "text/plain": [
              "(tensor([ 1,  3,  5,  7,  9, 11, 13, 15, 17, 19, 21]),\n",
              " tensor([0, 0, 0, 0, 0, 0, 0, 0, 0, 0, 0]))"
            ]
          },
          "metadata": {},
          "execution_count": 15
        }
      ]
    },
    {
      "cell_type": "markdown",
      "source": [
        "###Tensor datatypes\n",
        "\n",
        "**Note:** Tensor datatypes is one of the 3 big errors you'll run into with PyTorch and DL\n",
        "1. Tensors not right datatype\n",
        "2. Tensors not right shape(while mat multiplication)\n",
        "3. Tensors not on the right device"
      ],
      "metadata": {
        "id": "NHp1kWVUzUkv"
      }
    },
    {
      "cell_type": "code",
      "source": [
        "fl_32 = torch.tensor([3.0,6.0,9.0],dtype=None, device = None)\n",
        "fl_32.dtype"
      ],
      "metadata": {
        "colab": {
          "base_uri": "https://localhost:8080/"
        },
        "id": "52Tu3-9j0fve",
        "outputId": "8c689ca8-48df-4505-d866-10f05234f48d"
      },
      "execution_count": null,
      "outputs": [
        {
          "output_type": "execute_result",
          "data": {
            "text/plain": [
              "torch.float32"
            ]
          },
          "metadata": {},
          "execution_count": 16
        }
      ]
    },
    {
      "cell_type": "code",
      "source": [
        "fl_16 = fl_32.type(torch.float16)\n",
        "fl_16"
      ],
      "metadata": {
        "colab": {
          "base_uri": "https://localhost:8080/"
        },
        "id": "kl1uYxg71pHV",
        "outputId": "a8b4c773-4d00-4638-9bc2-19c95bee2de3"
      },
      "execution_count": null,
      "outputs": [
        {
          "output_type": "execute_result",
          "data": {
            "text/plain": [
              "tensor([3., 6., 9.], dtype=torch.float16)"
            ]
          },
          "metadata": {},
          "execution_count": 17
        }
      ]
    },
    {
      "cell_type": "code",
      "source": [
        "t = fl_16*fl_32\n",
        "t.dtype"
      ],
      "metadata": {
        "colab": {
          "base_uri": "https://localhost:8080/"
        },
        "id": "sfnmcYGc1sxz",
        "outputId": "c49ef3aa-7817-4589-e29c-1569e461a501"
      },
      "execution_count": null,
      "outputs": [
        {
          "output_type": "execute_result",
          "data": {
            "text/plain": [
              "torch.float32"
            ]
          },
          "metadata": {},
          "execution_count": 18
        }
      ]
    },
    {
      "cell_type": "code",
      "source": [
        "int_32 = torch.tensor([3,6,9], dtype=torch.int32)\n",
        "int_32"
      ],
      "metadata": {
        "colab": {
          "base_uri": "https://localhost:8080/"
        },
        "id": "w6wYcg-019ug",
        "outputId": "cf3d7ab1-b8c5-4774-9b12-73b6305ac1ad"
      },
      "execution_count": null,
      "outputs": [
        {
          "output_type": "execute_result",
          "data": {
            "text/plain": [
              "tensor([3, 6, 9], dtype=torch.int32)"
            ]
          },
          "metadata": {},
          "execution_count": 19
        }
      ]
    },
    {
      "cell_type": "code",
      "source": [
        "int_32*fl_16"
      ],
      "metadata": {
        "colab": {
          "base_uri": "https://localhost:8080/"
        },
        "id": "MhkRMWug2Sqq",
        "outputId": "4db692d5-5fbd-45e5-8bb0-e61a7d31d7dd"
      },
      "execution_count": null,
      "outputs": [
        {
          "output_type": "execute_result",
          "data": {
            "text/plain": [
              "tensor([ 9., 36., 81.], dtype=torch.float16)"
            ]
          },
          "metadata": {},
          "execution_count": 20
        }
      ]
    },
    {
      "cell_type": "code",
      "source": [
        "some_tensor = torch.rand(3,4)\n",
        "print(some_tensor)\n",
        "print(f\"Shape of the Tensor: {some_tensor.shape}\")\n",
        "print(f\"DataType of the Tensor: {some_tensor.dtype}\")\n",
        "print(f\"Device tensor is on: {some_tensor.device}\")"
      ],
      "metadata": {
        "colab": {
          "base_uri": "https://localhost:8080/"
        },
        "id": "AcOw590s2Unm",
        "outputId": "9e6c3148-fd98-47f5-81fa-8275b06e41b7"
      },
      "execution_count": null,
      "outputs": [
        {
          "output_type": "stream",
          "name": "stdout",
          "text": [
            "tensor([[0.5529, 0.4597, 0.6725, 0.1144],\n",
            "        [0.1291, 0.6626, 0.4595, 0.9450],\n",
            "        [0.5816, 0.0990, 0.7476, 0.8265]])\n",
            "Shape of the Tensor: torch.Size([3, 4])\n",
            "DataType of the Tensor: torch.float32\n",
            "Device tensor is on: cpu\n"
          ]
        }
      ]
    },
    {
      "cell_type": "markdown",
      "source": [
        "### Manipulating Tensors(tensor operations)\n",
        "\n",
        "Tensor operations include\n",
        "* addition\n",
        "* subtraction\n",
        "* multiplication\n",
        "* division\n",
        "* matrix multiplication"
      ],
      "metadata": {
        "id": "xyOLtCa83l5R"
      }
    },
    {
      "cell_type": "code",
      "source": [
        "tensor = torch.tensor([1,2,3])\n",
        "print(tensor + 10)\n",
        "print(tensor*10)\n",
        "# tryout inbuilt functions\n",
        "torch.mul(tensor,2)"
      ],
      "metadata": {
        "colab": {
          "base_uri": "https://localhost:8080/"
        },
        "id": "PKvH-El_6xcd",
        "outputId": "f9c22836-013c-4446-b7a0-48b80aa6fb79"
      },
      "execution_count": null,
      "outputs": [
        {
          "output_type": "stream",
          "name": "stdout",
          "text": [
            "tensor([11, 12, 13])\n",
            "tensor([10, 20, 30])\n"
          ]
        },
        {
          "output_type": "execute_result",
          "data": {
            "text/plain": [
              "tensor([2, 4, 6])"
            ]
          },
          "metadata": {},
          "execution_count": 22
        }
      ]
    },
    {
      "cell_type": "code",
      "source": [
        "# element wise multiplication\n",
        "print(tensor,\"*\",tensor)\n",
        "print(f\"Equals: {tensor*tensor}\")\n",
        "\n",
        "#matrix multiplication)\n",
        "\n",
        "print(f\"Matrix multiplication equals: {torch.matmul(tensor,tensor)}\")\n"
      ],
      "metadata": {
        "colab": {
          "base_uri": "https://localhost:8080/"
        },
        "id": "229WI4UF7D1X",
        "outputId": "63fad1fd-0c1c-474a-f173-1b0653ae9fd5"
      },
      "execution_count": null,
      "outputs": [
        {
          "output_type": "stream",
          "name": "stdout",
          "text": [
            "tensor([1, 2, 3]) * tensor([1, 2, 3])\n",
            "Equals: tensor([1, 4, 9])\n",
            "Matrix multiplication equals: 14\n"
          ]
        }
      ]
    },
    {
      "cell_type": "code",
      "source": [
        "%%time\n",
        "value = 0\n",
        "for i in range(len(tensor)):\n",
        "  value+= tensor[i]*tensor[i]\n",
        "print(value)"
      ],
      "metadata": {
        "colab": {
          "base_uri": "https://localhost:8080/"
        },
        "id": "rTPq-hCX8QWc",
        "outputId": "5e6cc1f3-95ec-4675-c061-bea7aa9c0289"
      },
      "execution_count": null,
      "outputs": [
        {
          "output_type": "stream",
          "name": "stdout",
          "text": [
            "tensor(14)\n",
            "CPU times: user 2.74 ms, sys: 140 µs, total: 2.88 ms\n",
            "Wall time: 5.29 ms\n"
          ]
        }
      ]
    },
    {
      "cell_type": "code",
      "source": [
        "%%time\n",
        "torch.matmul(tensor,tensor)"
      ],
      "metadata": {
        "colab": {
          "base_uri": "https://localhost:8080/"
        },
        "id": "xbAnB-vY87m_",
        "outputId": "8c426853-6cad-4080-cd36-9c2806b476b5"
      },
      "execution_count": null,
      "outputs": [
        {
          "output_type": "stream",
          "name": "stdout",
          "text": [
            "CPU times: user 1.54 ms, sys: 24 µs, total: 1.57 ms\n",
            "Wall time: 2.47 ms\n"
          ]
        },
        {
          "output_type": "execute_result",
          "data": {
            "text/plain": [
              "tensor(14)"
            ]
          },
          "metadata": {},
          "execution_count": 25
        }
      ]
    },
    {
      "cell_type": "markdown",
      "source": [
        "### one of the most COMMON ERRORS in DL\n",
        "\n",
        "2 main rules that performing matmul need to satisfy:\n",
        "1. The **inner dimensions** must match\n",
        "2. The resulting matrix has the shape of the **outer dimensions**"
      ],
      "metadata": {
        "id": "2e0-4PIK9BDl"
      }
    },
    {
      "cell_type": "code",
      "source": [
        "# shapes for matrix multiplication\n",
        "tensor_A = torch.tensor([[1,2],\n",
        "                         [3,4],\n",
        "                         [5,6]])\n",
        "tensor_B = torch.tensor([[7,10],\n",
        "                         [8,11],\n",
        "                         [9,12]])\n",
        "#torch.mm(tensor_A,tensor_B) can't be multiplied\n",
        "#torch.mm is short form of torch.matmul\n",
        "print(tensor_A)\n",
        "print(tensor_B,tensor_B.shape)"
      ],
      "metadata": {
        "colab": {
          "base_uri": "https://localhost:8080/"
        },
        "id": "kwRqlMqz-P3h",
        "outputId": "985ab976-66a4-46eb-e082-1e81d77cb6cd"
      },
      "execution_count": null,
      "outputs": [
        {
          "output_type": "stream",
          "name": "stdout",
          "text": [
            "tensor([[1, 2],\n",
            "        [3, 4],\n",
            "        [5, 6]])\n",
            "tensor([[ 7, 10],\n",
            "        [ 8, 11],\n",
            "        [ 9, 12]]) torch.Size([3, 2])\n"
          ]
        }
      ]
    },
    {
      "cell_type": "code",
      "source": [
        "tensor_B.T, tensor_B.T.shape"
      ],
      "metadata": {
        "colab": {
          "base_uri": "https://localhost:8080/"
        },
        "id": "VcYAvrQ4PWk3",
        "outputId": "e0b05a0b-d14f-43ab-fff2-80d146541592"
      },
      "execution_count": null,
      "outputs": [
        {
          "output_type": "execute_result",
          "data": {
            "text/plain": [
              "(tensor([[ 7,  8,  9],\n",
              "         [10, 11, 12]]),\n",
              " torch.Size([2, 3]))"
            ]
          },
          "metadata": {},
          "execution_count": 27
        }
      ]
    },
    {
      "cell_type": "code",
      "source": [
        "torch.mm(tensor_A, tensor_B.T),torch.mm(tensor_A, tensor_B.T).shape"
      ],
      "metadata": {
        "colab": {
          "base_uri": "https://localhost:8080/"
        },
        "id": "ELdwTJWwPo5g",
        "outputId": "b7873ca2-c96e-4352-f14a-fcba25648b01"
      },
      "execution_count": null,
      "outputs": [
        {
          "output_type": "execute_result",
          "data": {
            "text/plain": [
              "(tensor([[ 27,  30,  33],\n",
              "         [ 61,  68,  75],\n",
              "         [ 95, 106, 117]]),\n",
              " torch.Size([3, 3]))"
            ]
          },
          "metadata": {},
          "execution_count": 28
        }
      ]
    },
    {
      "cell_type": "markdown",
      "source": [
        "## Find the min, max, mean, sum, etc (tensor aggregation)"
      ],
      "metadata": {
        "id": "iW1XhWH-P9-6"
      }
    },
    {
      "cell_type": "code",
      "source": [
        "x = torch.arange(3,105, 10)\n",
        "x, x.dtype"
      ],
      "metadata": {
        "colab": {
          "base_uri": "https://localhost:8080/"
        },
        "id": "OGyRuTmjRbex",
        "outputId": "1165e769-62a1-4774-e319-13eaeb03dee2"
      },
      "execution_count": null,
      "outputs": [
        {
          "output_type": "execute_result",
          "data": {
            "text/plain": [
              "(tensor([  3,  13,  23,  33,  43,  53,  63,  73,  83,  93, 103]), torch.int64)"
            ]
          },
          "metadata": {},
          "execution_count": 29
        }
      ]
    },
    {
      "cell_type": "code",
      "source": [
        "torch.min(x), x.min()"
      ],
      "metadata": {
        "colab": {
          "base_uri": "https://localhost:8080/"
        },
        "id": "5Fm7LpxzSWQn",
        "outputId": "b7042b80-56b8-4938-f86f-9c0a6b53445a"
      },
      "execution_count": null,
      "outputs": [
        {
          "output_type": "execute_result",
          "data": {
            "text/plain": [
              "(tensor(3), tensor(3))"
            ]
          },
          "metadata": {},
          "execution_count": 30
        }
      ]
    },
    {
      "cell_type": "code",
      "source": [
        "torch.max(x), x.max()"
      ],
      "metadata": {
        "colab": {
          "base_uri": "https://localhost:8080/"
        },
        "id": "wcdposCdSZ4b",
        "outputId": "04572822-d5d5-4c81-cd6a-105fa65246e3"
      },
      "execution_count": null,
      "outputs": [
        {
          "output_type": "execute_result",
          "data": {
            "text/plain": [
              "(tensor(103), tensor(103))"
            ]
          },
          "metadata": {},
          "execution_count": 31
        }
      ]
    },
    {
      "cell_type": "code",
      "source": [
        "#torch.mean inputs only datatype of float32\n",
        "#hence we need to convert type of x\n",
        "torch.mean(x.type(torch.float32)), x.type(torch.float32).mean()"
      ],
      "metadata": {
        "colab": {
          "base_uri": "https://localhost:8080/"
        },
        "id": "P5tvZzttScIc",
        "outputId": "ad002e9a-5069-4b0f-90cb-b9fed5310c33"
      },
      "execution_count": null,
      "outputs": [
        {
          "output_type": "execute_result",
          "data": {
            "text/plain": [
              "(tensor(53.), tensor(53.))"
            ]
          },
          "metadata": {},
          "execution_count": 32
        }
      ]
    },
    {
      "cell_type": "code",
      "source": [
        "# sum\n",
        "torch.sum(x), x.sum()"
      ],
      "metadata": {
        "colab": {
          "base_uri": "https://localhost:8080/"
        },
        "id": "awsLeQoGSkqY",
        "outputId": "b70e1d3b-dff7-4566-e58b-50c457b047d0"
      },
      "execution_count": null,
      "outputs": [
        {
          "output_type": "execute_result",
          "data": {
            "text/plain": [
              "(tensor(583), tensor(583))"
            ]
          },
          "metadata": {},
          "execution_count": 33
        }
      ]
    },
    {
      "cell_type": "code",
      "source": [
        "# index position of min and max values in the tensor\n",
        "x.argmin(), x.argmax()"
      ],
      "metadata": {
        "colab": {
          "base_uri": "https://localhost:8080/"
        },
        "id": "93POdhUyTEHy",
        "outputId": "acde34cc-60c9-494e-f885-01cf94e1c6f9"
      },
      "execution_count": null,
      "outputs": [
        {
          "output_type": "execute_result",
          "data": {
            "text/plain": [
              "(tensor(0), tensor(10))"
            ]
          },
          "metadata": {},
          "execution_count": 34
        }
      ]
    },
    {
      "cell_type": "markdown",
      "source": [
        "### Reshaping, stacking, squeezing and unsqueezing tensors\n",
        "* Reshaping - reshapes an input tensor to a defined shape\n",
        "* View - return a view of an input tensor of certain shape but keep the same memory as th original tensor\n",
        "* Stacking - combine multiple tensors on top of each other (vstack) or side by side (hstack)\n",
        "* Squeeze - removes all 1 dimensions from a tensor\n",
        "* Unsqueeze - add a 1 dimension to a target tensor\n",
        "* Permute - Return a view of the input with dimensions permuted(swapped) in a certain way"
      ],
      "metadata": {
        "id": "TaVktrkKTWUv"
      }
    },
    {
      "cell_type": "code",
      "source": [
        "# Let's create a tensor\n",
        "x = torch.arange(1.0,10.0)\n",
        "x"
      ],
      "metadata": {
        "colab": {
          "base_uri": "https://localhost:8080/"
        },
        "id": "jE5Okb-GWiOc",
        "outputId": "01cd4769-0d67-41c4-ad30-ff064d89df10"
      },
      "execution_count": null,
      "outputs": [
        {
          "output_type": "execute_result",
          "data": {
            "text/plain": [
              "tensor([1., 2., 3., 4., 5., 6., 7., 8., 9.])"
            ]
          },
          "metadata": {},
          "execution_count": 35
        }
      ]
    },
    {
      "cell_type": "code",
      "source": [
        "x_reshaped = x.reshape(3,3)\n",
        "x_reshaped"
      ],
      "metadata": {
        "colab": {
          "base_uri": "https://localhost:8080/"
        },
        "id": "UADknMHSYFC4",
        "outputId": "692a1545-4b16-41bd-8696-974f6dfef517"
      },
      "execution_count": null,
      "outputs": [
        {
          "output_type": "execute_result",
          "data": {
            "text/plain": [
              "tensor([[1., 2., 3.],\n",
              "        [4., 5., 6.],\n",
              "        [7., 8., 9.]])"
            ]
          },
          "metadata": {},
          "execution_count": 36
        }
      ]
    },
    {
      "cell_type": "code",
      "source": [
        "x_reshape = x.reshape(1,9)\n",
        "x_reshape"
      ],
      "metadata": {
        "colab": {
          "base_uri": "https://localhost:8080/"
        },
        "id": "bNRjmeL3YNpj",
        "outputId": "3cdc7876-c2cf-4078-8c93-74c0840a58c7"
      },
      "execution_count": null,
      "outputs": [
        {
          "output_type": "execute_result",
          "data": {
            "text/plain": [
              "tensor([[1., 2., 3., 4., 5., 6., 7., 8., 9.]])"
            ]
          },
          "metadata": {},
          "execution_count": 37
        }
      ]
    },
    {
      "cell_type": "code",
      "source": [
        "z = x.view(1,9)\n",
        "#here as z shares the same memory as x, any changes made in z will also show up in the original x\n",
        "print(z)\n",
        "z[:,0]=5.0\n",
        "print(z)\n",
        "print(x)"
      ],
      "metadata": {
        "colab": {
          "base_uri": "https://localhost:8080/"
        },
        "id": "1aQ7c8o-YUmI",
        "outputId": "74ed630d-21b2-4a08-927b-61977a7674f3"
      },
      "execution_count": null,
      "outputs": [
        {
          "output_type": "stream",
          "name": "stdout",
          "text": [
            "tensor([[1., 2., 3., 4., 5., 6., 7., 8., 9.]])\n",
            "tensor([[5., 2., 3., 4., 5., 6., 7., 8., 9.]])\n",
            "tensor([5., 2., 3., 4., 5., 6., 7., 8., 9.])\n"
          ]
        }
      ]
    },
    {
      "cell_type": "code",
      "source": [
        "#stacking the tensors\n",
        "x_stacked = torch.stack((x,x,x,x),dim=1)\n",
        "x_stacked, x_stacked.shape"
      ],
      "metadata": {
        "colab": {
          "base_uri": "https://localhost:8080/"
        },
        "id": "geL6btZnYs8g",
        "outputId": "e6d42641-9586-4b87-ac96-691b98bd8847"
      },
      "execution_count": null,
      "outputs": [
        {
          "output_type": "execute_result",
          "data": {
            "text/plain": [
              "(tensor([[5., 5., 5., 5.],\n",
              "         [2., 2., 2., 2.],\n",
              "         [3., 3., 3., 3.],\n",
              "         [4., 4., 4., 4.],\n",
              "         [5., 5., 5., 5.],\n",
              "         [6., 6., 6., 6.],\n",
              "         [7., 7., 7., 7.],\n",
              "         [8., 8., 8., 8.],\n",
              "         [9., 9., 9., 9.]]),\n",
              " torch.Size([9, 4]))"
            ]
          },
          "metadata": {},
          "execution_count": 39
        }
      ]
    },
    {
      "cell_type": "code",
      "source": [
        "torch.vstack((x,x,x,x)), torch.vstack((x,x,x,x)).shape"
      ],
      "metadata": {
        "colab": {
          "base_uri": "https://localhost:8080/"
        },
        "id": "QifbNqO_ZKbR",
        "outputId": "a56d2ee0-a84d-4310-a9f2-08bdf9619923"
      },
      "execution_count": null,
      "outputs": [
        {
          "output_type": "execute_result",
          "data": {
            "text/plain": [
              "(tensor([[5., 2., 3., 4., 5., 6., 7., 8., 9.],\n",
              "         [5., 2., 3., 4., 5., 6., 7., 8., 9.],\n",
              "         [5., 2., 3., 4., 5., 6., 7., 8., 9.],\n",
              "         [5., 2., 3., 4., 5., 6., 7., 8., 9.]]),\n",
              " torch.Size([4, 9]))"
            ]
          },
          "metadata": {},
          "execution_count": 40
        }
      ]
    },
    {
      "cell_type": "code",
      "source": [
        "torch.hstack((x,x,x,x)), torch.hstack((x,x,x,x)).shape"
      ],
      "metadata": {
        "colab": {
          "base_uri": "https://localhost:8080/"
        },
        "id": "64wsXCxSZegJ",
        "outputId": "ce2848c7-114c-4fcf-af64-0336302fcc92"
      },
      "execution_count": null,
      "outputs": [
        {
          "output_type": "execute_result",
          "data": {
            "text/plain": [
              "(tensor([5., 2., 3., 4., 5., 6., 7., 8., 9., 5., 2., 3., 4., 5., 6., 7., 8., 9.,\n",
              "         5., 2., 3., 4., 5., 6., 7., 8., 9., 5., 2., 3., 4., 5., 6., 7., 8., 9.]),\n",
              " torch.Size([36]))"
            ]
          },
          "metadata": {},
          "execution_count": 41
        }
      ]
    },
    {
      "cell_type": "code",
      "source": [
        "print(f\"Previous tensor: {x_reshape}\\n\")\n",
        "print(f\"Previous shape: {x_reshape.shape}\\n\")\n",
        "\n",
        "#remove extra dimensions from the x_reshaped\n",
        "x_squeezed = x_reshape.squeeze()\n",
        "print(f\"New Tensor: {x_squeezed}\\n\")\n",
        "print(f\"New shape: {x_squeezed.shape}\")"
      ],
      "metadata": {
        "colab": {
          "base_uri": "https://localhost:8080/"
        },
        "id": "B_V9DhpYZytE",
        "outputId": "a6e48da9-066b-4368-ac42-b66d7c31859b"
      },
      "execution_count": null,
      "outputs": [
        {
          "output_type": "stream",
          "name": "stdout",
          "text": [
            "Previous tensor: tensor([[5., 2., 3., 4., 5., 6., 7., 8., 9.]])\n",
            "\n",
            "Previous shape: torch.Size([1, 9])\n",
            "\n",
            "New Tensor: tensor([5., 2., 3., 4., 5., 6., 7., 8., 9.])\n",
            "\n",
            "New shape: torch.Size([9])\n"
          ]
        }
      ]
    },
    {
      "cell_type": "code",
      "source": [
        "#torch.unsqueeze adds a single dim to a target at a specific dim\n",
        "print(f\"Previous tensor: {x_squeezed}\\n\")\n",
        "print(f\"Previous shape: {x_squeezed.shape}\\n\")\n",
        "\n",
        "#add an extra dimension with unsqueeze\n",
        "x_unsqueezed = x_squeezed.unsqueeze(dim=1) #add dim at dim 1\n",
        "print(f\"New Tensor: {x_unsqueezed}\\n\")\n",
        "print(f\"New shape: {x_unsqueezed.shape}\\n\\n\")\n",
        "\n",
        "x_unsqueezed = x_squeezed.unsqueeze(dim=0) #add dim at dim 0\n",
        "print(f\"New Tensor: {x_unsqueezed}\\n\")\n",
        "print(f\"New shape: {x_unsqueezed.shape}\")"
      ],
      "metadata": {
        "colab": {
          "base_uri": "https://localhost:8080/"
        },
        "id": "po3HQb3wVnLZ",
        "outputId": "2024a641-1e55-4005-c68d-78afe0690b94"
      },
      "execution_count": null,
      "outputs": [
        {
          "output_type": "stream",
          "name": "stdout",
          "text": [
            "Previous tensor: tensor([5., 2., 3., 4., 5., 6., 7., 8., 9.])\n",
            "\n",
            "Previous shape: torch.Size([9])\n",
            "\n",
            "New Tensor: tensor([[5.],\n",
            "        [2.],\n",
            "        [3.],\n",
            "        [4.],\n",
            "        [5.],\n",
            "        [6.],\n",
            "        [7.],\n",
            "        [8.],\n",
            "        [9.]])\n",
            "\n",
            "New shape: torch.Size([9, 1])\n",
            "\n",
            "\n",
            "New Tensor: tensor([[5., 2., 3., 4., 5., 6., 7., 8., 9.]])\n",
            "\n",
            "New shape: torch.Size([1, 9])\n"
          ]
        }
      ]
    },
    {
      "cell_type": "code",
      "source": [
        "x_new = x_reshape.reshape(3,3)\n",
        "print(f\"Previous tensor: {x_new}\\n\")\n",
        "print(f\"Previous shape: {x_new.shape}\\n\")\n",
        "\n",
        "#remove extra dimensions from the x_new\n",
        "x_squeezed = x_new.squeeze()\n",
        "print(f\"New Tensor: {x_squeezed}\\n\")\n",
        "print(f\"New shape: {x_squeezed.shape}\")"
      ],
      "metadata": {
        "colab": {
          "base_uri": "https://localhost:8080/"
        },
        "id": "9hPszhf2VCn_",
        "outputId": "5ff4d862-6b2f-4155-edfd-5a17767c152f"
      },
      "execution_count": null,
      "outputs": [
        {
          "output_type": "stream",
          "name": "stdout",
          "text": [
            "Previous tensor: tensor([[5., 2., 3.],\n",
            "        [4., 5., 6.],\n",
            "        [7., 8., 9.]])\n",
            "\n",
            "Previous shape: torch.Size([3, 3])\n",
            "\n",
            "New Tensor: tensor([[5., 2., 3.],\n",
            "        [4., 5., 6.],\n",
            "        [7., 8., 9.]])\n",
            "\n",
            "New shape: torch.Size([3, 3])\n"
          ]
        }
      ]
    },
    {
      "cell_type": "code",
      "source": [
        "#torch.unsqueeze adds a single dim to a target at a specific dim\n",
        "print(f\"Previous tensor: {x_squeezed}\\n\")\n",
        "print(f\"Previous shape: {x_squeezed.shape}\\n\")\n",
        "\n",
        "#add an extra dimension with unsqueeze\n",
        "print(\"Unsqueezing in Dim 2\")\n",
        "x_unsqueezed = x_squeezed.unsqueeze(dim=2) #add dim at dim 2\n",
        "print(f\"New Tensor: {x_unsqueezed}\\n\")\n",
        "print(f\"New shape: {x_unsqueezed.shape}\\n\")\n",
        "print(\"---------------------------------------\\n\")\n",
        "\n",
        "print(\"Unsqueezing in Dim 1\\n\")\n",
        "x_unsqueezed = x_squeezed.unsqueeze(dim=1) #add dim at dim 1\n",
        "print(f\"New Tensor: {x_unsqueezed}\\n\")\n",
        "print(f\"New shape: {x_unsqueezed.shape}\\n\")\n",
        "print(\"---------------------------------------\\n\")\n",
        "\n",
        "print(\"Unsqueezing in Dim 0\\n\")\n",
        "x_unsqueezed = x_squeezed.unsqueeze(dim=0) #add dim at dim 0\n",
        "print(f\"New Tensor: {x_unsqueezed}\\n\")\n",
        "print(f\"New shape: {x_unsqueezed.shape}\")\n",
        "print(\"---------------------------------------\")\n"
      ],
      "metadata": {
        "colab": {
          "base_uri": "https://localhost:8080/"
        },
        "id": "JExj_6phaVkO",
        "outputId": "d346bb63-788b-45f5-aec0-b7efba0f55ef"
      },
      "execution_count": null,
      "outputs": [
        {
          "output_type": "stream",
          "name": "stdout",
          "text": [
            "Previous tensor: tensor([[5., 2., 3.],\n",
            "        [4., 5., 6.],\n",
            "        [7., 8., 9.]])\n",
            "\n",
            "Previous shape: torch.Size([3, 3])\n",
            "\n",
            "Unsqueezing in Dim 2\n",
            "New Tensor: tensor([[[5.],\n",
            "         [2.],\n",
            "         [3.]],\n",
            "\n",
            "        [[4.],\n",
            "         [5.],\n",
            "         [6.]],\n",
            "\n",
            "        [[7.],\n",
            "         [8.],\n",
            "         [9.]]])\n",
            "\n",
            "New shape: torch.Size([3, 3, 1])\n",
            "\n",
            "---------------------------------------\n",
            "\n",
            "Unsqueezing in Dim 1\n",
            "\n",
            "New Tensor: tensor([[[5., 2., 3.]],\n",
            "\n",
            "        [[4., 5., 6.]],\n",
            "\n",
            "        [[7., 8., 9.]]])\n",
            "\n",
            "New shape: torch.Size([3, 1, 3])\n",
            "\n",
            "---------------------------------------\n",
            "\n",
            "Unsqueezing in Dim 0\n",
            "\n",
            "New Tensor: tensor([[[5., 2., 3.],\n",
            "         [4., 5., 6.],\n",
            "         [7., 8., 9.]]])\n",
            "\n",
            "New shape: torch.Size([1, 3, 3])\n",
            "---------------------------------------\n"
          ]
        }
      ]
    },
    {
      "cell_type": "markdown",
      "source": [
        "Permute is commonly used with images"
      ],
      "metadata": {
        "id": "1Wr5ADtpgMZo"
      }
    },
    {
      "cell_type": "code",
      "source": [
        "# torch.permute rearranges the dimensions of a target tensor in a specified order\n",
        "x = torch.randint(2,10,(2,4,3))\n",
        "print(f\"The size of the tensor is: {x.shape}\\n\")\n",
        "print(f\"The tensor is: {x}\\n\\n\")\n",
        "\n",
        "#now rearrange the shape as you need by changing in the index of the dim\n",
        "print(\"\\n-------------New permutation 2,0,1---------------------\\n\")\n",
        "x_permuted = x.permute(2,0,1)\n",
        "print(f\"The size of the permuted tensor is: {x_permuted.shape}\\n\")\n",
        "print(f\"The permuted tensor is: {x_permuted}\")\n"
      ],
      "metadata": {
        "colab": {
          "base_uri": "https://localhost:8080/"
        },
        "id": "O3ZPk35_eJ2s",
        "outputId": "8c24b0f9-e4cf-4bb5-bf60-a277f07eb651"
      },
      "execution_count": null,
      "outputs": [
        {
          "output_type": "stream",
          "name": "stdout",
          "text": [
            "The size of the tensor is: torch.Size([2, 4, 3])\n",
            "\n",
            "The tensor is: tensor([[[7, 8, 9],\n",
            "         [8, 9, 7],\n",
            "         [8, 5, 2],\n",
            "         [7, 9, 6]],\n",
            "\n",
            "        [[9, 6, 3],\n",
            "         [8, 6, 9],\n",
            "         [3, 2, 5],\n",
            "         [5, 5, 6]]])\n",
            "\n",
            "\n",
            "\n",
            "-------------New permutation 2,0,1---------------------\n",
            "\n",
            "The size of the permuted tensor is: torch.Size([3, 2, 4])\n",
            "\n",
            "The permuted tensor is: tensor([[[7, 8, 8, 7],\n",
            "         [9, 8, 3, 5]],\n",
            "\n",
            "        [[8, 9, 5, 9],\n",
            "         [6, 6, 2, 5]],\n",
            "\n",
            "        [[9, 7, 2, 6],\n",
            "         [3, 9, 5, 6]]])\n"
          ]
        }
      ]
    },
    {
      "cell_type": "code",
      "source": [
        "# permuted and original tensors share the same memory\n",
        "# try changing the value in permuted on and check the original one\n",
        "\n",
        "x_permuted[:,:,0] = 0\n",
        "print(f\"The new permuted tensor is: {x_permuted}\\n\")\n",
        "print(f\"Now let's see what happened in the original tensor: {x}\")"
      ],
      "metadata": {
        "colab": {
          "base_uri": "https://localhost:8080/"
        },
        "id": "h2ao3Ah4gAFH",
        "outputId": "a70b1311-22ef-4f12-c8d5-a4655202a70c"
      },
      "execution_count": null,
      "outputs": [
        {
          "output_type": "stream",
          "name": "stdout",
          "text": [
            "The new permuted tensor is: tensor([[[0, 8, 8, 7],\n",
            "         [0, 8, 3, 5]],\n",
            "\n",
            "        [[0, 9, 5, 9],\n",
            "         [0, 6, 2, 5]],\n",
            "\n",
            "        [[0, 7, 2, 6],\n",
            "         [0, 9, 5, 6]]])\n",
            "\n",
            "Now let's see what happened in the original tensor: tensor([[[0, 0, 0],\n",
            "         [8, 9, 7],\n",
            "         [8, 5, 2],\n",
            "         [7, 9, 6]],\n",
            "\n",
            "        [[0, 0, 0],\n",
            "         [8, 6, 9],\n",
            "         [3, 2, 5],\n",
            "         [5, 5, 6]]])\n"
          ]
        }
      ]
    },
    {
      "cell_type": "code",
      "source": [
        "x = torch.randint(2,10,(2,4,3))\n",
        "\n",
        "print(\"\\n-------------New permutation 1,2,0---------------------\\n\")\n",
        "x_permuted = x.permute(1,2,0)\n",
        "print(f\"The size of the permuted tensor is: {x_permuted.shape}\\n\")\n",
        "print(f\"The permuted tensor is: {x_permuted}\")"
      ],
      "metadata": {
        "colab": {
          "base_uri": "https://localhost:8080/"
        },
        "id": "PyePqn5HX-VU",
        "outputId": "0bd2f7e7-049d-4916-ca39-918fca0fe1ea"
      },
      "execution_count": null,
      "outputs": [
        {
          "output_type": "stream",
          "name": "stdout",
          "text": [
            "\n",
            "-------------New permutation 1,2,0---------------------\n",
            "\n",
            "The size of the permuted tensor is: torch.Size([4, 3, 2])\n",
            "\n",
            "The permuted tensor is: tensor([[[2, 9],\n",
            "         [6, 8],\n",
            "         [8, 4]],\n",
            "\n",
            "        [[6, 4],\n",
            "         [2, 2],\n",
            "         [2, 9]],\n",
            "\n",
            "        [[8, 4],\n",
            "         [2, 4],\n",
            "         [9, 2]],\n",
            "\n",
            "        [[2, 4],\n",
            "         [5, 6],\n",
            "         [9, 3]]])\n"
          ]
        }
      ]
    },
    {
      "cell_type": "code",
      "source": [
        "# permuted and original tensors share the same memory\n",
        "# try changing the value in permuted on and check the original one\n",
        "\n",
        "x_permuted[:,:,0] = 0\n",
        "print(f\"The new permuted tensor is: {x_permuted}\\n\")\n",
        "print(f\"Now let's see what happened in the original tensor: {x}\")"
      ],
      "metadata": {
        "colab": {
          "base_uri": "https://localhost:8080/"
        },
        "id": "p1cqTNVCYGKQ",
        "outputId": "b5441ac1-6a3a-4213-f99f-3aa365cfcf06"
      },
      "execution_count": null,
      "outputs": [
        {
          "output_type": "stream",
          "name": "stdout",
          "text": [
            "The new permuted tensor is: tensor([[[0, 9],\n",
            "         [0, 8],\n",
            "         [0, 4]],\n",
            "\n",
            "        [[0, 4],\n",
            "         [0, 2],\n",
            "         [0, 9]],\n",
            "\n",
            "        [[0, 4],\n",
            "         [0, 4],\n",
            "         [0, 2]],\n",
            "\n",
            "        [[0, 4],\n",
            "         [0, 6],\n",
            "         [0, 3]]])\n",
            "\n",
            "Now let's see what happened in the original tensor: tensor([[[0, 0, 0],\n",
            "         [0, 0, 0],\n",
            "         [0, 0, 0],\n",
            "         [0, 0, 0]],\n",
            "\n",
            "        [[9, 8, 4],\n",
            "         [4, 2, 9],\n",
            "         [4, 4, 2],\n",
            "         [4, 6, 3]]])\n"
          ]
        }
      ]
    },
    {
      "cell_type": "code",
      "source": [
        "import torch\n",
        "x = torch.arange(1,10).reshape(1,3,3)\n",
        "x, x.shape"
      ],
      "metadata": {
        "colab": {
          "base_uri": "https://localhost:8080/"
        },
        "id": "FCrlg3TUrYmM",
        "outputId": "f06190ad-7188-45de-8e68-856a322004da"
      },
      "execution_count": null,
      "outputs": [
        {
          "output_type": "execute_result",
          "data": {
            "text/plain": [
              "(tensor([[[1, 2, 3],\n",
              "          [4, 5, 6],\n",
              "          [7, 8, 9]]]),\n",
              " torch.Size([1, 3, 3]))"
            ]
          },
          "metadata": {},
          "execution_count": 47
        }
      ]
    },
    {
      "cell_type": "code",
      "source": [
        "x[0]"
      ],
      "metadata": {
        "colab": {
          "base_uri": "https://localhost:8080/"
        },
        "id": "OxpBHcwfr5od",
        "outputId": "cc71bba7-fed4-48f5-ed28-996e9d9b7d50"
      },
      "execution_count": null,
      "outputs": [
        {
          "output_type": "execute_result",
          "data": {
            "text/plain": [
              "tensor([[1, 2, 3],\n",
              "        [4, 5, 6],\n",
              "        [7, 8, 9]])"
            ]
          },
          "metadata": {},
          "execution_count": 48
        }
      ]
    },
    {
      "cell_type": "code",
      "source": [
        "x[0,0] #or x[0][0]"
      ],
      "metadata": {
        "colab": {
          "base_uri": "https://localhost:8080/"
        },
        "id": "Tzk9RaGPr6-g",
        "outputId": "bdc4fc97-4b5a-41e9-cecd-c096b7b59cd3"
      },
      "execution_count": null,
      "outputs": [
        {
          "output_type": "execute_result",
          "data": {
            "text/plain": [
              "tensor([1, 2, 3])"
            ]
          },
          "metadata": {},
          "execution_count": 49
        }
      ]
    },
    {
      "cell_type": "code",
      "source": [
        "# let's index on most inner bracket\n",
        "x[0][2][1]"
      ],
      "metadata": {
        "colab": {
          "base_uri": "https://localhost:8080/"
        },
        "id": "gsS7CqZbr_G4",
        "outputId": "b3b61952-76ac-4873-ac31-e69d5709b058"
      },
      "execution_count": null,
      "outputs": [
        {
          "output_type": "execute_result",
          "data": {
            "text/plain": [
              "tensor(8)"
            ]
          },
          "metadata": {},
          "execution_count": 50
        }
      ]
    },
    {
      "cell_type": "code",
      "source": [
        "# you can use \":\" to select all of a target dimension\n",
        "x[:,0]"
      ],
      "metadata": {
        "colab": {
          "base_uri": "https://localhost:8080/"
        },
        "id": "xEcZ3lxrsGcr",
        "outputId": "7a3278ee-b7e8-4763-9690-d9900cfa4a9d"
      },
      "execution_count": null,
      "outputs": [
        {
          "output_type": "execute_result",
          "data": {
            "text/plain": [
              "tensor([[1, 2, 3]])"
            ]
          },
          "metadata": {},
          "execution_count": 51
        }
      ]
    },
    {
      "cell_type": "code",
      "source": [
        "x[:,:,0]"
      ],
      "metadata": {
        "colab": {
          "base_uri": "https://localhost:8080/"
        },
        "id": "Hufwb2ydseZZ",
        "outputId": "828d5434-2986-4472-e9bc-b7884411eeb1"
      },
      "execution_count": null,
      "outputs": [
        {
          "output_type": "execute_result",
          "data": {
            "text/plain": [
              "tensor([[1, 4, 7]])"
            ]
          },
          "metadata": {},
          "execution_count": 52
        }
      ]
    },
    {
      "cell_type": "code",
      "source": [
        "x[0,2,:]"
      ],
      "metadata": {
        "colab": {
          "base_uri": "https://localhost:8080/"
        },
        "id": "1A6NpxEJsg7S",
        "outputId": "99deb271-85f9-4cac-8836-82f3d48413a9"
      },
      "execution_count": null,
      "outputs": [
        {
          "output_type": "execute_result",
          "data": {
            "text/plain": [
              "tensor([7, 8, 9])"
            ]
          },
          "metadata": {},
          "execution_count": 53
        }
      ]
    },
    {
      "cell_type": "code",
      "source": [],
      "metadata": {
        "id": "7SHcDNcLddzI"
      },
      "execution_count": null,
      "outputs": []
    },
    {
      "cell_type": "code",
      "source": [
        "import torch\n",
        "x = torch.arange(1,19).reshape(3,3,2)\n",
        "x, x.shape"
      ],
      "metadata": {
        "colab": {
          "base_uri": "https://localhost:8080/"
        },
        "outputId": "7a72c4c6-7732-4fb7-d202-ae5b53e043c5",
        "id": "SQ-1_l-5dVVw"
      },
      "execution_count": null,
      "outputs": [
        {
          "output_type": "execute_result",
          "data": {
            "text/plain": [
              "(tensor([[[ 1,  2],\n",
              "          [ 3,  4],\n",
              "          [ 5,  6]],\n",
              " \n",
              "         [[ 7,  8],\n",
              "          [ 9, 10],\n",
              "          [11, 12]],\n",
              " \n",
              "         [[13, 14],\n",
              "          [15, 16],\n",
              "          [17, 18]]]),\n",
              " torch.Size([3, 3, 2]))"
            ]
          },
          "metadata": {},
          "execution_count": 92
        }
      ]
    },
    {
      "cell_type": "code",
      "source": [
        "x[0]"
      ],
      "metadata": {
        "colab": {
          "base_uri": "https://localhost:8080/"
        },
        "outputId": "0c5de863-f383-4358-bef0-a5737a946783",
        "id": "2RASKfNSdVVx"
      },
      "execution_count": null,
      "outputs": [
        {
          "output_type": "execute_result",
          "data": {
            "text/plain": [
              "tensor([[1, 2],\n",
              "        [3, 4],\n",
              "        [5, 6]])"
            ]
          },
          "metadata": {},
          "execution_count": 97
        }
      ]
    },
    {
      "cell_type": "code",
      "source": [
        "x[0,0] #or x[0][0]"
      ],
      "metadata": {
        "colab": {
          "base_uri": "https://localhost:8080/"
        },
        "outputId": "d98f5331-6c95-4e27-a028-d6aef22b8dd5",
        "id": "EWu2B7bedVVy"
      },
      "execution_count": null,
      "outputs": [
        {
          "output_type": "execute_result",
          "data": {
            "text/plain": [
              "tensor([1, 2])"
            ]
          },
          "metadata": {},
          "execution_count": 98
        }
      ]
    },
    {
      "cell_type": "code",
      "source": [
        "# let's index on most inner bracket\n",
        "x[0][2][1]"
      ],
      "metadata": {
        "colab": {
          "base_uri": "https://localhost:8080/"
        },
        "outputId": "cdd0a357-b506-48e1-8005-cb57f404cc03",
        "id": "YlNWrdQCdVVz"
      },
      "execution_count": null,
      "outputs": [
        {
          "output_type": "execute_result",
          "data": {
            "text/plain": [
              "tensor(6)"
            ]
          },
          "metadata": {},
          "execution_count": 99
        }
      ]
    },
    {
      "cell_type": "code",
      "source": [
        "# you can use \":\" to select all of a target dimension\n",
        "x[:,0]"
      ],
      "metadata": {
        "colab": {
          "base_uri": "https://localhost:8080/"
        },
        "outputId": "a257bf15-d8b9-4b01-adf0-5fb7d177fb71",
        "id": "l6QwaCCfdVVz"
      },
      "execution_count": null,
      "outputs": [
        {
          "output_type": "execute_result",
          "data": {
            "text/plain": [
              "tensor([[ 1,  2],\n",
              "        [ 7,  8],\n",
              "        [13, 14]])"
            ]
          },
          "metadata": {},
          "execution_count": 100
        }
      ]
    },
    {
      "cell_type": "code",
      "source": [
        "x[:,:,0]"
      ],
      "metadata": {
        "colab": {
          "base_uri": "https://localhost:8080/"
        },
        "outputId": "67e4a2ab-52f2-445b-c95f-79dfb9067661",
        "id": "pRuHSu9pdVVz"
      },
      "execution_count": null,
      "outputs": [
        {
          "output_type": "execute_result",
          "data": {
            "text/plain": [
              "tensor([[ 1,  3,  5],\n",
              "        [ 7,  9, 11],\n",
              "        [13, 15, 17]])"
            ]
          },
          "metadata": {},
          "execution_count": 101
        }
      ]
    },
    {
      "cell_type": "code",
      "source": [
        "x[0,2,:]"
      ],
      "metadata": {
        "colab": {
          "base_uri": "https://localhost:8080/"
        },
        "outputId": "3734342d-cdd6-4b11-bfa0-aec74abe2455",
        "id": "xJaJdgm4dVV0"
      },
      "execution_count": null,
      "outputs": [
        {
          "output_type": "execute_result",
          "data": {
            "text/plain": [
              "tensor([5, 6])"
            ]
          },
          "metadata": {},
          "execution_count": 102
        }
      ]
    },
    {
      "cell_type": "code",
      "source": [
        "# Indexing (selecting data from tensors)\n",
        "# similar to numpy"
      ],
      "metadata": {
        "id": "PARfo14EhWDH"
      },
      "execution_count": null,
      "outputs": []
    },
    {
      "cell_type": "markdown",
      "source": [
        "### PyTorch and NumPy\n",
        "\n",
        "NumPy is a popular scientific Python numerical computing library\n",
        "And because of this, PyTorch has functionality to interact with it.\n",
        "* Data in NumPy, want in PyTorch tensor -> `torch.from_numpy(ndarray)`\n",
        "* PyTorch tensor -> NumPy -> `torch.Tensor.numpy()`"
      ],
      "metadata": {
        "id": "SD8bmBIZssrK"
      }
    },
    {
      "cell_type": "code",
      "source": [
        "#numpys default dtype is float 64 whereas torch's tensor default dtype is float32\n",
        "import numpy as np\n",
        "\n",
        "array = np.arange(1.0,10.0)\n",
        "tensor = torch.from_numpy(array)\n",
        "array, tensor\n"
      ],
      "metadata": {
        "colab": {
          "base_uri": "https://localhost:8080/"
        },
        "id": "yhH_A0MCt9On",
        "outputId": "8129d2e6-4a15-4f02-d7b4-451177d7d1b5"
      },
      "execution_count": null,
      "outputs": [
        {
          "output_type": "execute_result",
          "data": {
            "text/plain": [
              "(array([1., 2., 3., 4., 5., 6., 7., 8., 9.]),\n",
              " tensor([1., 2., 3., 4., 5., 6., 7., 8., 9.], dtype=torch.float64))"
            ]
          },
          "metadata": {},
          "execution_count": 54
        }
      ]
    },
    {
      "cell_type": "code",
      "source": [
        "#change the value in array -> what affect will it have on tensor\n",
        "array = array+1\n",
        "array, tensor\n",
        "#it didn't change i.e both have different memory space"
      ],
      "metadata": {
        "colab": {
          "base_uri": "https://localhost:8080/"
        },
        "id": "xAstuJPtve3d",
        "outputId": "1c0e4f24-f76e-49ae-8755-a9c71f486ac4"
      },
      "execution_count": null,
      "outputs": [
        {
          "output_type": "execute_result",
          "data": {
            "text/plain": [
              "(array([ 2.,  3.,  4.,  5.,  6.,  7.,  8.,  9., 10.]),\n",
              " tensor([1., 2., 3., 4., 5., 6., 7., 8., 9.], dtype=torch.float64))"
            ]
          },
          "metadata": {},
          "execution_count": 55
        }
      ]
    },
    {
      "cell_type": "code",
      "source": [
        "# Tensor to NumPy array\n",
        "tensor = torch.ones(7)\n",
        "numpy_tensor = tensor.numpy()\n",
        "numpy_tensor\n",
        "#default dtype of array will be that of tensor now"
      ],
      "metadata": {
        "colab": {
          "base_uri": "https://localhost:8080/"
        },
        "id": "wUIDpxWyv2La",
        "outputId": "d286903b-cf6e-4d24-b641-ab700b51b768"
      },
      "execution_count": null,
      "outputs": [
        {
          "output_type": "execute_result",
          "data": {
            "text/plain": [
              "array([1., 1., 1., 1., 1., 1., 1.], dtype=float32)"
            ]
          },
          "metadata": {},
          "execution_count": 56
        }
      ]
    },
    {
      "cell_type": "markdown",
      "source": [
        "## Reproducability (trying to take random out of random)\n",
        "\n",
        "In short how s neural network learns:\n",
        "`start with random numbers -> tensor operations -> update random numbers to try and make them better representation of the data -> again -> again -> again..`\n",
        "\n",
        "To reduce the randomness in neural networks and PyTorch comes the concept of a **random seed**.\n",
        "\n",
        "Essentially what the random seed does is \"flavour\" the randomness.\n",
        "\n",
        "A pseudorandom number generator's number sequence is completely determined by the seed: thus, if a pseudorandom number generator is reinitialized with the same seed, it will produce the same sequence of numbers."
      ],
      "metadata": {
        "id": "G-4LswBE0n96"
      }
    },
    {
      "cell_type": "code",
      "source": [
        "# Let's make some random but reproducilble tensors\n",
        "\n",
        "#set the random seed\n",
        "RANDOM_SEED = 42\n",
        "torch.manual_seed(RANDOM_SEED)\n",
        "random_tensor_A = torch.rand(3,4)\n",
        "\n",
        "#the below line of code works only for one random gen\n",
        "torch.manual_seed(RANDOM_SEED)\n",
        "random_tensor_B = torch.rand(3,4)\n",
        "\n",
        "print(random_tensor_A)\n",
        "print(random_tensor_B)\n",
        "print(random_tensor_B==random_tensor_A)\n",
        "#hence we get the same random numbers or data"
      ],
      "metadata": {
        "colab": {
          "base_uri": "https://localhost:8080/"
        },
        "id": "co5whOfp1ymm",
        "outputId": "ab299afc-0a94-4068-ed98-6ca92ebdc7fb"
      },
      "execution_count": null,
      "outputs": [
        {
          "output_type": "stream",
          "name": "stdout",
          "text": [
            "tensor([[0.8823, 0.9150, 0.3829, 0.9593],\n",
            "        [0.3904, 0.6009, 0.2566, 0.7936],\n",
            "        [0.9408, 0.1332, 0.9346, 0.5936]])\n",
            "tensor([[0.8823, 0.9150, 0.3829, 0.9593],\n",
            "        [0.3904, 0.6009, 0.2566, 0.7936],\n",
            "        [0.9408, 0.1332, 0.9346, 0.5936]])\n",
            "tensor([[True, True, True, True],\n",
            "        [True, True, True, True],\n",
            "        [True, True, True, True]])\n"
          ]
        }
      ]
    },
    {
      "cell_type": "markdown",
      "source": [
        "## Running tensors and PyTorch objects on the GPUs (and making computations easier)"
      ],
      "metadata": {
        "id": "YUZZFNCuA2sJ"
      }
    },
    {
      "cell_type": "code",
      "source": [
        "!nvidia-smi"
      ],
      "metadata": {
        "colab": {
          "base_uri": "https://localhost:8080/"
        },
        "id": "UNzPqOWHBkxr",
        "outputId": "c206fbc3-67db-418d-c510-7937e6dcafba"
      },
      "execution_count": null,
      "outputs": [
        {
          "output_type": "stream",
          "name": "stdout",
          "text": [
            "/bin/bash: line 1: nvidia-smi: command not found\n"
          ]
        }
      ]
    },
    {
      "cell_type": "code",
      "source": [
        "#check for GPU access with PyTorch\n",
        "import torch\n",
        "torch.cuda.is_available()"
      ],
      "metadata": {
        "colab": {
          "base_uri": "https://localhost:8080/"
        },
        "id": "kUjMhAbNCxIa",
        "outputId": "5004d349-dedd-4126-adb3-d9d3b8a978fc"
      },
      "execution_count": null,
      "outputs": [
        {
          "output_type": "execute_result",
          "data": {
            "text/plain": [
              "False"
            ]
          },
          "metadata": {},
          "execution_count": 59
        }
      ]
    },
    {
      "cell_type": "code",
      "source": [
        "# Set-up device agnostic code\n",
        "device = \"cuda\" if torch.cuda.is_available() else \"cpu\"\n",
        "device"
      ],
      "metadata": {
        "colab": {
          "base_uri": "https://localhost:8080/",
          "height": 35
        },
        "id": "HQpyVkjoEb8K",
        "outputId": "9b45ff65-dc79-4161-ccc9-201907ba9031"
      },
      "execution_count": null,
      "outputs": [
        {
          "output_type": "execute_result",
          "data": {
            "text/plain": [
              "'cpu'"
            ],
            "application/vnd.google.colaboratory.intrinsic+json": {
              "type": "string"
            }
          },
          "metadata": {},
          "execution_count": 60
        }
      ]
    },
    {
      "cell_type": "code",
      "source": [
        "#count number of devices\n",
        "torch.cuda.device_count()"
      ],
      "metadata": {
        "colab": {
          "base_uri": "https://localhost:8080/"
        },
        "id": "NPaz0VBiE603",
        "outputId": "6afbbe7f-4e2a-4d28-d03f-2ca95a6c9035"
      },
      "execution_count": null,
      "outputs": [
        {
          "output_type": "execute_result",
          "data": {
            "text/plain": [
              "0"
            ]
          },
          "metadata": {},
          "execution_count": 61
        }
      ]
    },
    {
      "cell_type": "markdown",
      "source": [
        "Putting tensors on the GPU"
      ],
      "metadata": {
        "id": "4J3TFjdrN9cY"
      }
    },
    {
      "cell_type": "code",
      "source": [
        "import torch\n",
        "# create a tensor (default on the CPU)\n",
        "tensor = torch.tensor([1,2,3])\n",
        "\n",
        "# Tensor not on GPU\n",
        "print(tensor, tensor.device)"
      ],
      "metadata": {
        "colab": {
          "base_uri": "https://localhost:8080/"
        },
        "id": "kbd7VOD6E_8R",
        "outputId": "b17ef695-13f7-4b15-a9cc-6360bce90b23"
      },
      "execution_count": null,
      "outputs": [
        {
          "output_type": "stream",
          "name": "stdout",
          "text": [
            "tensor([1, 2, 3]) cpu\n"
          ]
        }
      ]
    },
    {
      "cell_type": "code",
      "source": [
        "# Move tensor to GPU (if available)\n",
        "tensor_on_gpu = tensor.to(device)\n",
        "tensor_on_gpu"
      ],
      "metadata": {
        "colab": {
          "base_uri": "https://localhost:8080/"
        },
        "id": "_YKM-kkLNVWB",
        "outputId": "c4291c56-f137-4ba1-df1a-21964f0cca7d"
      },
      "execution_count": null,
      "outputs": [
        {
          "output_type": "execute_result",
          "data": {
            "text/plain": [
              "tensor([1, 2, 3])"
            ]
          },
          "metadata": {},
          "execution_count": 63
        }
      ]
    },
    {
      "cell_type": "markdown",
      "source": [
        "Moving tensors back to the CPU"
      ],
      "metadata": {
        "id": "XpcKz60EOBBA"
      }
    },
    {
      "cell_type": "code",
      "source": [
        "# If tensor is on GPU, can't transform it to NumPy\n",
        "tensor_on_gpu.numpy()"
      ],
      "metadata": {
        "colab": {
          "base_uri": "https://localhost:8080/"
        },
        "id": "RjMkF1BPNlV5",
        "outputId": "3c724c2a-f020-46b5-cd2f-9fa796107f10"
      },
      "execution_count": null,
      "outputs": [
        {
          "output_type": "execute_result",
          "data": {
            "text/plain": [
              "array([1, 2, 3])"
            ]
          },
          "metadata": {},
          "execution_count": 64
        }
      ]
    },
    {
      "cell_type": "code",
      "source": [
        "# To fix the GPU tensor with NumPy issue, we can first set it to the CPU\n",
        "tensor_back_on_cpu = tensor_on_gpu.cpu().numpy()\n",
        "tensor_back_on_cpu"
      ],
      "metadata": {
        "colab": {
          "base_uri": "https://localhost:8080/"
        },
        "id": "qoX3XVP7OVbY",
        "outputId": "e6b8e386-6378-45d1-d0e0-51eab61db4d9"
      },
      "execution_count": null,
      "outputs": [
        {
          "output_type": "execute_result",
          "data": {
            "text/plain": [
              "array([1, 2, 3])"
            ]
          },
          "metadata": {},
          "execution_count": 65
        }
      ]
    },
    {
      "cell_type": "code",
      "source": [
        "tensor_on_gpu"
      ],
      "metadata": {
        "colab": {
          "base_uri": "https://localhost:8080/"
        },
        "id": "FXrslHEYOpmc",
        "outputId": "44f6cd1b-5d7c-4cd3-9ce5-ada1c02d8e5c"
      },
      "execution_count": null,
      "outputs": [
        {
          "output_type": "execute_result",
          "data": {
            "text/plain": [
              "tensor([1, 2, 3])"
            ]
          },
          "metadata": {},
          "execution_count": 66
        }
      ]
    },
    {
      "cell_type": "code",
      "source": [],
      "metadata": {
        "id": "rtGhgRTsO10i"
      },
      "execution_count": null,
      "outputs": []
    }
  ]
}